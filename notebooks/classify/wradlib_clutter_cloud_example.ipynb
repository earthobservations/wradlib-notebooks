{
 "cells": [
  {
   "cell_type": "markdown",
   "metadata": {
    "nbsphinx": "hidden"
   },
   "source": [
    "This notebook is part of the $\\omega radlib$ documentation: https://docs.wradlib.org.\n",
    "\n",
    "Copyright (c) $\\omega radlib$ developers.\n",
    "Distributed under the MIT License. See LICENSE.txt for more info."
   ]
  },
  {
   "cell_type": "markdown",
   "metadata": {},
   "source": [
    "# Clutter detection by using space-born cloud images"
   ]
  },
  {
   "cell_type": "code",
   "execution_count": 1,
   "metadata": {},
   "outputs": [],
   "source": [
    "import numpy as np\n",
    "\n",
    "import wradlib.vis as vis\n",
    "import wradlib.clutter as cl\n",
    "import wradlib.georef as georef\n",
    "import wradlib.ipol as ipol\n",
    "import wradlib.io as io\n",
    "import wradlib.util as util\n",
    "import matplotlib.pyplot as plt\n",
    "try:\n",
    "    get_ipython().magic(\"matplotlib inline\")\n",
    "except:\n",
    "    plt.ion()"
   ]
  },
  {
   "cell_type": "markdown",
   "metadata": {},
   "source": [
    "### Read the radar data and count the number of tilts"
   ]
  },
  {
   "cell_type": "code",
   "execution_count": 2,
   "metadata": {},
   "outputs": [],
   "source": [
    "# read the radar volume scan\n",
    "filename = 'hdf5/20130429043000.rad.bewid.pvol.dbzh.scan1.hdf'\n",
    "filename = util.get_wradlib_data_file(filename)\n",
    "pvol = io.read_opera_hdf5(filename)\n",
    "\n",
    "# Count the number of dataset\n",
    "\n",
    "ntilt = 1\n",
    "for i in range(100):\n",
    "    try:\n",
    "        pvol[\"dataset%d/what\" % ntilt]\n",
    "        ntilt += 1\n",
    "    except Exception:\n",
    "        ntilt -= 1\n",
    "        break"
   ]
  },
  {
   "cell_type": "markdown",
   "metadata": {},
   "source": [
    "### Reconstruct the radar values"
   ]
  },
  {
   "cell_type": "code",
   "execution_count": 3,
   "metadata": {},
   "outputs": [],
   "source": [
    "nrays = int(pvol[\"dataset1/where\"][\"nrays\"])\n",
    "nbins = int(pvol[\"dataset1/where\"][\"nbins\"])\n",
    "val = np.empty((ntilt, nrays, nbins))\n",
    "for t in range(ntilt):\n",
    "    val[t, ...] = pvol[\"dataset%d/data1/data\" % (t + 1)]\n",
    "gain = float(pvol[\"dataset1/data1/what\"][\"gain\"])\n",
    "offset = float(pvol[\"dataset1/data1/what\"][\"offset\"])\n",
    "val = val * gain + offset"
   ]
  },
  {
   "cell_type": "markdown",
   "metadata": {},
   "source": [
    "### Construct the corresponding radar coordinates"
   ]
  },
  {
   "cell_type": "code",
   "execution_count": 4,
   "metadata": {},
   "outputs": [
    {
     "name": "stderr",
     "output_type": "stream",
     "text": [
      "/home/travis/miniconda/envs/travis_wradlib/lib/python3.8/site-packages/wradlib/georef/polar.py:142: DeprecationWarning: Function `spherical_to_xyz` returns an array of shape (theta, phi, range, 3). Use `squeeze=True` to remove singleton dimensions.\n",
      "  warnings.warn(\"Function `spherical_to_xyz` returns an array \"\n"
     ]
    }
   ],
   "source": [
    "rscale = int(pvol[\"dataset1/where\"][\"rscale\"])\n",
    "coord = np.empty((ntilt, nrays, nbins, 3))\n",
    "for t in range(ntilt):\n",
    "    elangle = pvol[\"dataset%d/where\" % (t + 1)][\"elangle\"]\n",
    "    coord[t, ...] = georef.sweep_centroids(nrays, rscale, nbins, elangle)\n",
    "# ascale = math.pi / nrays\n",
    "sitecoords = (pvol[\"where\"][\"lon\"], pvol[\"where\"][\"lat\"],\n",
    "              pvol[\"where\"][\"height\"])\n",
    "\n",
    "coord, proj_radar = georef.spherical_to_xyz(coord[..., 0],\n",
    "                                            coord[..., 1],\n",
    "                                            coord[..., 2], \n",
    "                                            sitecoords,\n",
    "                                            re=6370040.,\n",
    "                                            ke=4./3.)"
   ]
  },
  {
   "cell_type": "markdown",
   "metadata": {},
   "source": [
    "### Construct collocated satellite data"
   ]
  },
  {
   "cell_type": "code",
   "execution_count": 5,
   "metadata": {},
   "outputs": [],
   "source": [
    "filename = 'hdf5/SAFNWC_MSG3_CT___201304290415_BEL_________.h5'\n",
    "filename = util.get_wradlib_data_file(filename)\n",
    "sat_gdal = io.read_safnwc(filename)\n",
    "val_sat = georef.read_gdal_values(sat_gdal)\n",
    "coord_sat = georef.read_gdal_coordinates(sat_gdal)\n",
    "proj_sat = georef.read_gdal_projection(sat_gdal)\n",
    "coord_sat = georef.reproject(coord_sat, projection_source=proj_sat,\n",
    "                             projection_target=proj_radar)\n",
    "coord_radar = coord\n",
    "interp = ipol.Nearest(coord_sat[..., 0:2].reshape(-1, 2),\n",
    "                      coord_radar[..., 0:2].reshape(-1, 2))\n",
    "val_sat = interp(val_sat.ravel()).reshape(val.shape)"
   ]
  },
  {
   "cell_type": "markdown",
   "metadata": {},
   "source": [
    "### Estimate localisation errors"
   ]
  },
  {
   "cell_type": "code",
   "execution_count": 6,
   "metadata": {},
   "outputs": [],
   "source": [
    "timelag = 9 * 60\n",
    "wind = 10\n",
    "error = np.absolute(timelag) * wind"
   ]
  },
  {
   "cell_type": "markdown",
   "metadata": {},
   "source": [
    "### Identify clutter based on collocated cloudtype"
   ]
  },
  {
   "cell_type": "code",
   "execution_count": 7,
   "metadata": {},
   "outputs": [],
   "source": [
    "clutter = cl.filter_cloudtype(val[0, ...], val_sat[0, ...],\n",
    "                              scale=rscale, smoothing=error)"
   ]
  },
  {
   "cell_type": "markdown",
   "metadata": {},
   "source": [
    "### Plot the results"
   ]
  },
  {
   "cell_type": "code",
   "execution_count": 8,
   "metadata": {},
   "outputs": [
    {
     "data": {
      "text/plain": [
       "Text(0.5, 1.0, 'Detected clutter')"
      ]
     },
     "execution_count": 8,
     "metadata": {},
     "output_type": "execute_result"
    },
    {
     "data": {
      "image/png": "[encoded data removed]",
      "text/plain": [
       "<Figure size 1152x576 with 5 Axes>"
      ]
     },
     "metadata": {
      "needs_background": "light"
     },
     "output_type": "display_data"
    }
   ],
   "source": [
    "fig = plt.figure(figsize=(16,8))\n",
    "\n",
    "ax = fig.add_subplot(131)\n",
    "ax, pm = vis.plot_ppi(val[0, ...], ax=ax)\n",
    "plt.colorbar(pm, shrink=0.5)\n",
    "plt.title('Radar reflectivity')\n",
    "\n",
    "ax = fig.add_subplot(132)\n",
    "ax, pm = vis.plot_ppi(val_sat[0, ...], ax=ax)\n",
    "plt.colorbar(pm, shrink=0.5)\n",
    "plt.title('Satellite cloud classification')\n",
    "\n",
    "ax = fig.add_subplot(133)\n",
    "ax, pm = vis.plot_ppi(clutter, ax=ax)\n",
    "plt.title('Detected clutter')"
   ]
  }
 ],
 "metadata": {
  "kernelspec": {
   "display_name": "Python 3",
   "language": "python",
   "name": "python3"
  },
  "language_info": {
   "codemirror_mode": {
    "name": "ipython",
    "version": 3
   },
   "file_extension": ".py",
   "mimetype": "text/x-python",
   "name": "python",
   "nbconvert_exporter": "python",
   "pygments_lexer": "ipython3",
   "version": "3.8.3"
  },
  "toc": {
   "colors": {
    "hover_highlight": "#DAA520",
    "navigate_num": "#000000",
    "navigate_text": "#333333",
    "running_highlight": "#FF0000",
    "selected_highlight": "#FFD700",
    "sidebar_border": "#EEEEEE",
    "wrapper_background": "#FFFFFF"
   },
   "moveMenuLeft": true,
   "nav_menu": {
    "height": "177px",
    "width": "252px"
   },
   "navigate_menu": true,
   "number_sections": false,
   "sideBar": true,
   "threshold": 4,
   "toc_cell": false,
   "toc_section_display": "block",
   "toc_window_display": false,
   "widenNotebook": false
  }
 },
 "nbformat": 4,
 "nbformat_minor": 1
}
