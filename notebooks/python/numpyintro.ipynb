{
 "cells": [
  {
   "cell_type": "code",
   "execution_count": 1,
   "metadata": {
    "execution": {
     "iopub.execute_input": "2020-11-28T19:13:05.769669Z",
     "iopub.status.busy": "2020-11-28T19:13:05.767120Z",
     "iopub.status.idle": "2020-11-28T19:13:05.772229Z",
     "shell.execute_reply": "2020-11-28T19:13:05.772777Z"
    },
    "slideshow": {
     "slide_type": "skip"
    }
   },
   "outputs": [],
   "source": [
    "from __future__ import print_function"
   ]
  },
  {
   "cell_type": "markdown",
   "metadata": {
    "nbsphinx": "hidden",
    "slideshow": {
     "slide_type": "skip"
    }
   },
   "source": [
    "This notebook is part of the $\\omega radlib$ documentation: https://docs.wradlib.org.\n",
    "\n",
    "Copyright (c) $\\omega radlib$ developers.\n",
    "Distributed under the MIT License. See LICENSE.txt for more info."
   ]
  },
  {
   "cell_type": "markdown",
   "metadata": {
    "slideshow": {
     "slide_type": "slide"
    }
   },
   "source": [
    "# NumPy: manipulating numerical data"
   ]
  },
  {
   "cell_type": "markdown",
   "metadata": {
    "slideshow": {
     "slide_type": "fragment"
    }
   },
   "source": [
    "*NumPy* is the key Python package for creating and manipulating (multi-dimensional) numerical arrays. *NumPy* arrays are also the most important data objects in $\\omega radlib$. It has become a convention to import *NumPy* as follows:"
   ]
  },
  {
   "cell_type": "code",
   "execution_count": 2,
   "metadata": {
    "execution": {
     "iopub.execute_input": "2020-11-28T19:13:05.779401Z",
     "iopub.status.busy": "2020-11-28T19:13:05.778525Z",
     "iopub.status.idle": "2020-11-28T19:13:05.970540Z",
     "shell.execute_reply": "2020-11-28T19:13:05.971840Z"
    },
    "slideshow": {
     "slide_type": "fragment"
    }
   },
   "outputs": [],
   "source": [
    "import numpy as np"
   ]
  },
  {
   "cell_type": "markdown",
   "metadata": {
    "slideshow": {
     "slide_type": "slide"
    }
   },
   "source": [
    "## Creating and inspecting NumPy arrays"
   ]
  },
  {
   "cell_type": "markdown",
   "metadata": {
    "slideshow": {
     "slide_type": "fragment"
    }
   },
   "source": [
    "The `ndarray`, a numerical array, is the most important data type in NumPy. "
   ]
  },
  {
   "cell_type": "code",
   "execution_count": 3,
   "metadata": {
    "execution": {
     "iopub.execute_input": "2020-11-28T19:13:05.977830Z",
     "iopub.status.busy": "2020-11-28T19:13:05.975187Z",
     "iopub.status.idle": "2020-11-28T19:13:05.985708Z",
     "shell.execute_reply": "2020-11-28T19:13:05.986445Z"
    },
    "slideshow": {
     "slide_type": "fragment"
    }
   },
   "outputs": [
    {
     "name": "stdout",
     "output_type": "stream",
     "text": [
      "[0 1 2 3]\n",
      "<class 'numpy.ndarray'>\n"
     ]
    }
   ],
   "source": [
    "a = np.array([0, 1, 2, 3])\n",
    "print(a)\n",
    "print(type(a))"
   ]
  },
  {
   "cell_type": "markdown",
   "metadata": {
    "slideshow": {
     "slide_type": "slide"
    }
   },
   "source": [
    "Inspect the `shape` (i.e. the number and size of the dimensions of an array)."
   ]
  },
  {
   "cell_type": "code",
   "execution_count": 4,
   "metadata": {
    "execution": {
     "iopub.execute_input": "2020-11-28T19:13:05.990774Z",
     "iopub.status.busy": "2020-11-28T19:13:05.988875Z",
     "iopub.status.idle": "2020-11-28T19:13:05.997651Z",
     "shell.execute_reply": "2020-11-28T19:13:05.998389Z"
    },
    "slideshow": {
     "slide_type": "fragment"
    }
   },
   "outputs": [
    {
     "name": "stdout",
     "output_type": "stream",
     "text": [
      "(4,)\n",
      "(2, 2)\n"
     ]
    }
   ],
   "source": [
    "print(a.shape)\n",
    "# This creates a 2-dimensional array\n",
    "a2 = np.array([[0, 1], [2, 3]])\n",
    "print(a2.shape)"
   ]
  },
  {
   "cell_type": "markdown",
   "metadata": {
    "slideshow": {
     "slide_type": "slide"
    }
   },
   "source": [
    "There are various ways to create arrays: from lists (as above), using convenience functions, or from file."
   ]
  },
  {
   "cell_type": "code",
   "execution_count": 5,
   "metadata": {
    "execution": {
     "iopub.execute_input": "2020-11-28T19:13:06.002795Z",
     "iopub.status.busy": "2020-11-28T19:13:06.000845Z",
     "iopub.status.idle": "2020-11-28T19:13:06.016666Z",
     "shell.execute_reply": "2020-11-28T19:13:06.017388Z"
    },
    "slideshow": {
     "slide_type": "fragment"
    }
   },
   "outputs": [
    {
     "name": "stdout",
     "output_type": "stream",
     "text": [
      "a looks like:\n",
      "array([0, 1, 2, 3])\n",
      "\n",
      "b looks like:\n",
      "array([[1., 1., 1.],\n",
      "       [1., 1., 1.]])\n",
      "and has shape (2, 3)\n",
      "\n",
      "c looks like:\n",
      "array([[0.],\n",
      "       [0.]])\n",
      "and has shape (2, 1)\n",
      "\n",
      "d looks like:\n",
      "array([2, 3, 4, 5, 6, 7, 8, 9])\n",
      "and has shape (8,)\n",
      "\n",
      "e looks like:\n",
      "array([ 0. ,  2.5,  5. ,  7.5, 10. ])\n",
      "and has shape (5,)\n",
      "\n"
     ]
    }
   ],
   "source": [
    "# From lists\n",
    "a = np.array([0, 1, 2, 3])\n",
    "print(\"a looks like:\\n%r\\n\" % a)\n",
    "\n",
    "# Convenience functions\n",
    "b = np.ones( shape=(2,3) )\n",
    "print(\"b looks like:\\n%r\\nand has shape %r\\n\" % (b, b.shape) )\n",
    "\n",
    "c = np.zeros( shape=(2,1) )\n",
    "print(\"c looks like:\\n%r\\nand has shape %r\\n\" % (c, c.shape) )\n",
    "\n",
    "d = np.arange(2,10)\n",
    "print(\"d looks like:\\n%r\\nand has shape %r\\n\" % (d, d.shape) )\n",
    "\n",
    "e = np.linspace(0,10,5)\n",
    "print(\"e looks like:\\n%r\\nand has shape %r\\n\" % (e, e.shape) )"
   ]
  },
  {
   "cell_type": "markdown",
   "metadata": {
    "slideshow": {
     "slide_type": "slide"
    }
   },
   "source": [
    "You can change the shape of an array without changing its size."
   ]
  },
  {
   "cell_type": "code",
   "execution_count": 6,
   "metadata": {
    "execution": {
     "iopub.execute_input": "2020-11-28T19:13:06.020680Z",
     "iopub.status.busy": "2020-11-28T19:13:06.019694Z",
     "iopub.status.idle": "2020-11-28T19:13:06.027200Z",
     "shell.execute_reply": "2020-11-28T19:13:06.027947Z"
    },
    "slideshow": {
     "slide_type": "fragment"
    }
   },
   "outputs": [
    {
     "name": "stdout",
     "output_type": "stream",
     "text": [
      "Array a has shape (10,).\n",
      "Array b has shape (2, 5)\n"
     ]
    }
   ],
   "source": [
    "a = np.arange(10)\n",
    "b = np.reshape(a, (2,5))\n",
    "print(\"Array a has shape %r.\\nArray b has shape %r\" % (a.shape, b.shape))"
   ]
  },
  {
   "cell_type": "markdown",
   "metadata": {
    "slideshow": {
     "slide_type": "slide"
    }
   },
   "source": [
    "## Indexing and slicing"
   ]
  },
  {
   "cell_type": "markdown",
   "metadata": {
    "slideshow": {
     "slide_type": "fragment"
    }
   },
   "source": [
    "You can index an `ndarray` in the same way as a `list`:"
   ]
  },
  {
   "cell_type": "code",
   "execution_count": 7,
   "metadata": {
    "execution": {
     "iopub.execute_input": "2020-11-28T19:13:06.033076Z",
     "iopub.status.busy": "2020-11-28T19:13:06.030817Z",
     "iopub.status.idle": "2020-11-28T19:13:06.042728Z",
     "shell.execute_reply": "2020-11-28T19:13:06.043692Z"
    },
    "slideshow": {
     "slide_type": "fragment"
    }
   },
   "outputs": [
    {
     "name": "stdout",
     "output_type": "stream",
     "text": [
      "[0 1 2 3 4 5 6 7 8 9]\n",
      "0 2 9\n"
     ]
    }
   ],
   "source": [
    "a = np.arange(10)\n",
    "print(a)\n",
    "print(a[0], a[2], a[-1])"
   ]
  },
  {
   "cell_type": "markdown",
   "metadata": {
    "slideshow": {
     "slide_type": "slide"
    }
   },
   "source": [
    "Just follow your intuition for indexing multi-dimensional arrays:"
   ]
  },
  {
   "cell_type": "code",
   "execution_count": 8,
   "metadata": {
    "execution": {
     "iopub.execute_input": "2020-11-28T19:13:06.048941Z",
     "iopub.status.busy": "2020-11-28T19:13:06.046665Z",
     "iopub.status.idle": "2020-11-28T19:13:06.060316Z",
     "shell.execute_reply": "2020-11-28T19:13:06.061192Z"
    },
    "slideshow": {
     "slide_type": "fragment"
    }
   },
   "outputs": [
    {
     "name": "stdout",
     "output_type": "stream",
     "text": [
      "[[0 0 0]\n",
      " [0 1 0]\n",
      " [0 0 2]]\n",
      "\n",
      "Second row, second column: 1\n",
      "\n",
      "[[ 0  0  0]\n",
      " [ 0  1  0]\n",
      " [ 0 10  2]]\n",
      "\n",
      "Second row:\n",
      "array([0, 1, 0])\n"
     ]
    }
   ],
   "source": [
    "a = np.diag(np.arange(3))\n",
    "print(a, end=\"\\n\\n\")\n",
    "\n",
    "print(\"Second row, second column: %r\\n\" % a[1, 1])\n",
    "\n",
    "# Setting an array item\n",
    "a[2, 1] = 10 # third line, second column\n",
    "print(a, end=\"\\n\\n\")\n",
    "\n",
    "# Acessing a full row\n",
    "print(\"Second row:\\n%r\" % a[1])"
   ]
  },
  {
   "cell_type": "markdown",
   "metadata": {
    "slideshow": {
     "slide_type": "slide"
    }
   },
   "source": [
    "Slicing is just a way to access multiple array items at once:"
   ]
  },
  {
   "cell_type": "code",
   "execution_count": 9,
   "metadata": {
    "execution": {
     "iopub.execute_input": "2020-11-28T19:13:06.065195Z",
     "iopub.status.busy": "2020-11-28T19:13:06.064128Z",
     "iopub.status.idle": "2020-11-28T19:13:06.073625Z",
     "shell.execute_reply": "2020-11-28T19:13:06.074419Z"
    },
    "slideshow": {
     "slide_type": "fragment"
    }
   },
   "outputs": [
    {
     "name": "stdout",
     "output_type": "stream",
     "text": [
      "[0 1 2 3 4 5 6 7 8 9]\n",
      "\n",
      "1st: [2 3 4 5 6 7 8]\n",
      "2nd: [2 3 4 5 6 7 8 9]\n",
      "3rd: [0 1 2 3 4]\n",
      "4th: [2 5 8]\n",
      "5th: [6 7 8 9]\n"
     ]
    }
   ],
   "source": [
    "a = np.arange(10)\n",
    "print(a, end=\"\\n\\n\")\n",
    "\n",
    "print(\"1st:\", a[2:9])\n",
    "print(\"2nd:\", a[2:])\n",
    "print(\"3rd:\", a[:5])\n",
    "print(\"4th:\", a[2:9:3]) # [start:end:step]\n",
    "print(\"5th:\", a[a>5]) # using a mask"
   ]
  },
  {
   "cell_type": "markdown",
   "metadata": {
    "slideshow": {
     "slide_type": "slide"
    }
   },
   "source": [
    "Get further info on NumPy arrays [here](https://www.scipy-lectures.org/intro/numpy/array_object.html#indexing-and-slicing)!"
   ]
  }
 ],
 "metadata": {
  "celltoolbar": "Slideshow",
  "kernelspec": {
   "display_name": "Python 3",
   "language": "python",
   "name": "python3"
  },
  "language_info": {
   "codemirror_mode": {
    "name": "ipython",
    "version": 3
   },
   "file_extension": ".py",
   "mimetype": "text/x-python",
   "name": "python",
   "nbconvert_exporter": "python",
   "pygments_lexer": "ipython3",
   "version": "3.8.6"
  },
  "livereveal": {
   "scroll": true
  },
  "toc": {
   "colors": {
    "hover_highlight": "#DAA520",
    "navigate_num": "#000000",
    "navigate_text": "#333333",
    "running_highlight": "#FF0000",
    "selected_highlight": "#FFD700",
    "sidebar_border": "#EEEEEE",
    "wrapper_background": "#FFFFFF"
   },
   "moveMenuLeft": true,
   "nav_menu": {
    "height": "68px",
    "width": "252px"
   },
   "navigate_menu": true,
   "number_sections": false,
   "sideBar": true,
   "threshold": 4,
   "toc_cell": false,
   "toc_section_display": "block",
   "toc_window_display": false,
   "widenNotebook": false
  }
 },
 "nbformat": 4,
 "nbformat_minor": 1
}
