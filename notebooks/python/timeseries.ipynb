{
 "cells": [
  {
   "cell_type": "markdown",
   "metadata": {
    "nbsphinx": "hidden"
   },
   "source": [
    "This notebook is part of the $\\omega radlib$ documentation: https://docs.wradlib.org.\n",
    "\n",
    "Copyright (c) $\\omega radlib$ developers.\n",
    "Distributed under the MIT License. See LICENSE.txt for more info."
   ]
  },
  {
   "cell_type": "markdown",
   "metadata": {},
   "source": [
    "# Dealing with time series"
   ]
  },
  {
   "cell_type": "markdown",
   "metadata": {},
   "source": [
    "Dealing with radar data typically means implies dealing with time series (of radar records or rain gauge observations). This article gives a brief intro on how to deal with times series and datetimes in Python.   "
   ]
  },
  {
   "cell_type": "markdown",
   "metadata": {},
   "source": [
    "## The datetime module\n",
    "\n",
    "The datetime module provides a number of types to deal with dates, times, and time intervals. "
   ]
  },
  {
   "cell_type": "code",
   "execution_count": 1,
   "metadata": {},
   "outputs": [],
   "source": [
    "import datetime as dt"
   ]
  },
  {
   "cell_type": "markdown",
   "metadata": {},
   "source": [
    "There are different ways to create datetime objects.  "
   ]
  },
  {
   "cell_type": "code",
   "execution_count": 2,
   "metadata": {},
   "outputs": [],
   "source": [
    "# This is now (system time)\n",
    "now = dt.datetime.now()\n",
    "# Just using the date\n",
    "birth_van_rossum = dt.datetime(1956, 1, 31)\n",
    "# Providing both date and time\n",
    "first_wradlib_commit = dt.datetime(2011, 10, 26, 11, 54, 58)\n",
    "# Or initialising from a string\n",
    "erad_2016_begins = dt.datetime.strptime(\"2016-10-09 09:00:00\", \"%Y-%m-%d %H:%M:%S\")"
   ]
  },
  {
   "cell_type": "markdown",
   "metadata": {},
   "source": [
    "You can compute the difference between two datetime objects."
   ]
  },
  {
   "cell_type": "code",
   "execution_count": 3,
   "metadata": {},
   "outputs": [
    {
     "name": "stdout",
     "output_type": "stream",
     "text": [
      "This is a <class 'datetime.timedelta'> object.\n",
      "\n",
      "It looks like this: datetime.timedelta(days=23509, seconds=24800, microseconds=750626)\n",
      "and consists of\n",
      "\t23509 days,\n",
      "\t24800 seconds,\n",
      "\tand 750626 microseconds.\n",
      "\n",
      "Guido van Rossum is 2031202400 seconds old.\n",
      "wradlib's first commit was 3151 days ago.\n",
      "The ERAD 2016 OSS Short course took place 1341 days ago.\n"
     ]
    }
   ],
   "source": [
    "# Age of Guido van Rossum\n",
    "age_van_rossum = now - birth_van_rossum\n",
    "print(\"This is a %r object.\\n\" % type(age_van_rossum) )\n",
    "print(\"It looks like this: %r\" % age_van_rossum )\n",
    "print(\"and consists of\\n\\t%d days,\\n\\t%d seconds,\\n\\tand %d microseconds.\\n\" \n",
    "      % (age_van_rossum.days, age_van_rossum.seconds, age_van_rossum.microseconds) )\n",
    "# Age of wradlib\n",
    "age_wradlib = now - first_wradlib_commit\n",
    "# Time until (or since) beginning of ERAD 2016 OSS Short course\n",
    "from_to_erad2016 = now - erad_2016_begins\n",
    "\n",
    "print(\"Guido van Rossum is %d seconds old.\" % age_van_rossum.total_seconds())\n",
    "print(\"wradlib's first commit was %d days ago.\" % age_wradlib.days)\n",
    "if from_to_erad2016.total_seconds() < 0:\n",
    "    print(\"The ERAD 2016 OSS Short course will start in %d days.\" % -from_to_erad2016.days )\n",
    "else:\n",
    "    print(\"The ERAD 2016 OSS Short course took place %d days ago.\" % from_to_erad2016.days)"
   ]
  },
  {
   "cell_type": "markdown",
   "metadata": {},
   "source": [
    "Or you can create a `datetime.timedelta` object yourself \n",
    "and add/subtract a time interval from/to a `datetime` object.\n",
    "You can use any of these keywords: `days, seconds, microseconds, milliseconds, minutes, hours, weeks`,\n",
    "but `datetime.timedelta` will always represent the result in `days, seconds, microseconds`."
   ]
  },
  {
   "cell_type": "code",
   "execution_count": 4,
   "metadata": {},
   "outputs": [
    {
     "name": "stdout",
     "output_type": "stream",
     "text": [
      "0:02:00\n",
      "0:02:00\n",
      "This is now: 2020-06-12 06:53:20.770914\n",
      "This is two minutes before: 2020-06-12 06:51:20.770914\n"
     ]
    }
   ],
   "source": [
    "# This is an interval of two minutes\n",
    "print(dt.timedelta(minutes=1, seconds=60))\n",
    "# And this is, too\n",
    "print(dt.timedelta(minutes=2))\n",
    "now = dt.datetime.now()\n",
    "print(\"This is now: %s\" % now)\n",
    "print(\"This is two minutes before: %s\" % (now - dt.timedelta(minutes=2)) )"
   ]
  },
  {
   "cell_type": "markdown",
   "metadata": {},
   "source": [
    "The default string format of a `datetime` object corresponds to the [isoformat](https://en.wikipedia.org/wiki/ISO_8601). Using the `strftime` function, however, you can control string formatting yourself. The following example shows this feature together with other features we have learned before. The idea is to loop over time and generate corresponding string representations. We also store the `datetime` objects in a list."
   ]
  },
  {
   "cell_type": "code",
   "execution_count": 5,
   "metadata": {},
   "outputs": [
    {
     "name": "stdout",
     "output_type": "stream",
     "text": [
      "These are the ERAD 2016 conference days (incl. short courses):\n",
      "\tSunday, 09. October 2016\n",
      "\tMonday, 10. October 2016\n",
      "\tTuesday, 11. October 2016\n",
      "\tWednesday, 12. October 2016\n",
      "\tThursday, 13. October 2016\n",
      "\tFriday, 14. October 2016\n"
     ]
    }
   ],
   "source": [
    "start = dt.datetime(2016, 10, 9)\n",
    "end = dt.datetime(2016, 10, 14)\n",
    "interval = dt.timedelta(days=1)\n",
    "dtimes = []\n",
    "print(\"These are the ERAD 2016 conference days (incl. short courses):\")\n",
    "while start <= end:\n",
    "    print(start.strftime(\"\\t%A, %d. %B %Y\"))\n",
    "    dtimes.append(start)\n",
    "    start += interval    "
   ]
  },
  {
   "cell_type": "markdown",
   "metadata": {},
   "source": [
    "[matplotlib](../python/mplintro.ipynb) generally understands `datetime` objects and tries to make sense of them in plots."
   ]
  },
  {
   "cell_type": "code",
   "execution_count": 6,
   "metadata": {},
   "outputs": [],
   "source": [
    "# Instead of %matplotlib inline\n",
    "import matplotlib.pyplot as pl\n",
    "try:\n",
    "    get_ipython().magic(\"matplotlib inline\")\n",
    "except:\n",
    "    pl.ion()\n",
    "import numpy as np"
   ]
  },
  {
   "cell_type": "code",
   "execution_count": 7,
   "metadata": {},
   "outputs": [
    {
     "data": {
      "image/png": "[encoded data removed]",
      "text/plain": [
       "<Figure size 720x360 with 1 Axes>"
      ]
     },
     "metadata": {
      "needs_background": "light"
     },
     "output_type": "display_data"
    }
   ],
   "source": [
    "# Create some dummy data\n",
    "level = np.linspace(100,0,len(dtimes))\n",
    "\n",
    "# And add a time series plot\n",
    "fig = pl.figure(figsize=(10,5))\n",
    "ax = fig.add_subplot(111)\n",
    "pl.plot(dtimes, level, \"bo\", linestyle=\"dashed\")\n",
    "pl.xlabel(\"Day of the conference\", fontsize=15)\n",
    "pl.ylabel(\"Relative attentiveness (%)\", fontsize=15)\n",
    "pl.title(\"Development of participants' attentiveness during the conference\", fontsize=15)\n",
    "pl.tick_params(labelsize=12)"
   ]
  }
 ],
 "metadata": {
  "celltoolbar": "Edit Metadata",
  "kernelspec": {
   "display_name": "Python 3",
   "language": "python",
   "name": "python3"
  },
  "language_info": {
   "codemirror_mode": {
    "name": "ipython",
    "version": 3
   },
   "file_extension": ".py",
   "mimetype": "text/x-python",
   "name": "python",
   "nbconvert_exporter": "python",
   "pygments_lexer": "ipython3",
   "version": "3.8.3"
  },
  "toc": {
   "colors": {
    "hover_highlight": "#DAA520",
    "navigate_num": "#000000",
    "navigate_text": "#333333",
    "running_highlight": "#FF0000",
    "selected_highlight": "#FFD700",
    "sidebar_border": "#EEEEEE",
    "wrapper_background": "#FFFFFF"
   },
   "moveMenuLeft": true,
   "nav_menu": {
    "height": "49px",
    "width": "252px"
   },
   "navigate_menu": true,
   "number_sections": false,
   "sideBar": true,
   "threshold": 4,
   "toc_cell": false,
   "toc_section_display": "block",
   "toc_window_display": false,
   "widenNotebook": false
  }
 },
 "nbformat": 4,
 "nbformat_minor": 1
}
