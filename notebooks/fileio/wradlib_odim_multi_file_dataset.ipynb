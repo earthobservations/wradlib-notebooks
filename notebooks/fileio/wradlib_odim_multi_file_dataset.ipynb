{
 "cells": [
  {
   "cell_type": "markdown",
   "metadata": {},
   "source": [
    "This notebook is part of the $\\omega radlib$ documentation: https://docs.wradlib.org.\n",
    "\n",
    "Copyright (c) $\\omega radlib$ developers.\n",
    "Distributed under the MIT License. See LICENSE.txt for more info."
   ]
  },
  {
   "cell_type": "markdown",
   "metadata": {},
   "source": [
    "# Multi File OdimH5 reader"
   ]
  },
  {
   "cell_type": "markdown",
   "metadata": {},
   "source": [
    "This implementation is based on several classes which are described below."
   ]
  },
  {
   "cell_type": "markdown",
   "metadata": {},
   "source": [
    "## Class Overview\n",
    "\n",
    "### XRadBase\n",
    "\n",
    "Implements `collections.abc.MutableSequence` for holding sequential data in the derived classes (eg. sweeps, timeseries, moments).\n",
    "\n",
    "### OdimH5GroupAttributeMixin\n",
    "\n",
    "Implements properties for `XRadMoment`, `XRadSweep`, `XRadTimeSeries` and `XRadVolume` to nicely acquire ODIM group metadata, eg. `how`, `what` and `where` groups. Other wanted attributes can be acquired via `attrs`-property and other (sub-) groups be inspected via `groups`-property.\n",
    "\n",
    "### OdimH5SweepMetaDataMixin\n",
    "\n",
    "Implements properties for `XRadSweep` to nicely acquire ODIM sweep metadata, eg. `a1gate`, `azimuth`, `nrays`, `nbins` etc.\n",
    "\n",
    "### XRadMoment\n",
    "\n",
    "Uses `OdimH5GroupAttributeMixin` to access ODIM metadata. Does not hold any data. Property `data` fetches the moment as xarray DataArray from the parent `XRadSweep`. \n",
    "\n",
    "### XRadSweep\n",
    "\n",
    "Inherits from `XRadBase`, uses `OdimH5GroupAttributeMixin` and `OdimH5SweepMetaDataMixin`. Worker class, where everything happens. Implements methods and properties to retrieve sweep metadata and data. Holds `XRadMoments` in it's `MutableSequence`. Property `data` is used to load and cache the `XRadMoments` as combined xarray Dataset. Implements a whole arsenal of other properties to inspect metadata.\n",
    "\n",
    "#### XRadSweepOdim:\n",
    "\n",
    "Inherits from `XRadSweep`. Accounts for ODIM data layout.\n",
    "\n",
    "#### XRadSweepGamic:\n",
    "\n",
    "Inherits from `XRadSweep`. Accounts for GAMIC data layout.\n",
    "\n",
    "### XRadTimeSeries\n",
    "\n",
    "Inherits from `XRadBase`, holds several `XRadSweep` objects in it's `MutableSequence`. Property `data` is used to concat and cache the `XRadSweeps` as xarray Dataset along time dimension. Implements check methods to quickly get information about layout of timeseries data. \n",
    "\n",
    "### XRadVolume\n",
    "\n",
    "Inherits from `XRadBase`, holds several `XRadTimeSeries` objects in it's `MutableSequence`. Implements CfRadial2 like `root` property."
   ]
  },
  {
   "cell_type": "markdown",
   "metadata": {},
   "source": [
    "## Loading Function\n",
    "\n",
    "For opening ODIMH5 datafiles `wrl.io.open_odim(filename, loader='h5py', **kwargs)` can be used.\n",
    "\n",
    "The user can decide which loader to use (`h5py`, `h5netcdf` or `netcdf4`) to open the files for reading. The output should be the same in any case, although the memory footprint can differ quite substantially. The default loader is `netcdf4` if loader isn't specified.\n",
    "\n",
    "The datasets are retrieved in further succession via `xarray.open_dataset()` in combination with either `xarray.backends.H5NetCDFStore` (for loader `h5py` and `h5netcdf`) or `xarray.backends.NetCDF4DataStore` (for loader `netcdf4`.\n",
    "\n",
    "Possible keyword arguments are:\n",
    "\n",
    "- `mask_and_scale` *bool* - If True, apply mask and scale to moment data arrays\n",
    "- `decode_coords` *bool* - If True, decode ODIMH5 coordinates\n",
    "- `decode_times` *bool* - If True, decode times into datetime objects\n",
    "- `chunks` *int or dict* - Data loaded as dask array\n",
    "- `parallel` *bool* - if True, use `dask.delayed` to load moments in parallel\n",
    "\n",
    "The user is encouraged to play with the keyword arguments for best alignment with the needs in terms of speed and performance."
   ]
  },
  {
   "cell_type": "code",
   "execution_count": 1,
   "metadata": {},
   "outputs": [],
   "source": [
    "import wradlib as wrl\n",
    "import warnings\n",
    "warnings.filterwarnings('ignore')\n",
    "import matplotlib.pyplot as pl\n",
    "import numpy as np\n",
    "import xarray as xr\n",
    "import os\n",
    "import glob\n",
    "try:\n",
    "    get_ipython().magic(\"matplotlib inline\")\n",
    "except:\n",
    "    pl.ion()"
   ]
  },
  {
   "cell_type": "code",
   "execution_count": 2,
   "metadata": {},
   "outputs": [],
   "source": [
    "import os\n",
    "import psutil\n",
    "import gc\n",
    "process = psutil.Process(os.getpid())"
   ]
  },
  {
   "cell_type": "code",
   "execution_count": 3,
   "metadata": {},
   "outputs": [],
   "source": [
    "def memory_usage_psutil():\n",
    "    # return the memory usage in MB\n",
    "    rocess = psutil.Process(os.getpid())\n",
    "    mem = process.memory_full_info().uss / float(1 << 20)\n",
    "    return mem"
   ]
  },
  {
   "cell_type": "code",
   "execution_count": 4,
   "metadata": {},
   "outputs": [],
   "source": [
    "def free_memory():\n",
    "    mem0 = memory_usage_psutil()\n",
    "    print(gc.collect())\n",
    "    proc = psutil.Process()\n",
    "    mem1 = memory_usage_psutil()\n",
    "    print(\"Memory freed: {0:.5f} MB\".format((mem0-mem1)))"
   ]
  },
  {
   "cell_type": "code",
   "execution_count": 5,
   "metadata": {},
   "outputs": [],
   "source": [
    "def check_open_files(full=False):\n",
    "    proc = psutil.Process()\n",
    "    print(len(proc.open_files()))\n",
    "    if full:\n",
    "        print(proc.open_files())"
   ]
  },
  {
   "cell_type": "code",
   "execution_count": 6,
   "metadata": {},
   "outputs": [],
   "source": [
    "fpath = wrl.util.get_wradlib_data_path()\n",
    "f = os.path.join(fpath, 'hdf5/behel/20*.hdf')"
   ]
  },
  {
   "cell_type": "code",
   "execution_count": 7,
   "metadata": {},
   "outputs": [
    {
     "name": "stdout",
     "output_type": "stream",
     "text": [
      "Current Memory: 123.48828125\n"
     ]
    }
   ],
   "source": [
    "mem_start = memory_usage_psutil()\n",
    "print(\"Current Memory:\", mem_start)"
   ]
  },
  {
   "cell_type": "markdown",
   "metadata": {},
   "source": [
    "## Check open files"
   ]
  },
  {
   "cell_type": "code",
   "execution_count": 8,
   "metadata": {},
   "outputs": [
    {
     "name": "stdout",
     "output_type": "stream",
     "text": [
      "0\n"
     ]
    }
   ],
   "source": [
    "check_open_files()"
   ]
  },
  {
   "cell_type": "markdown",
   "metadata": {},
   "source": [
    "## Claim Files into class structure\n",
    "\n",
    "The different files will be opened with `h5netcdf`, `h5py` or `netcdf4` depending on `loader` keyword. Only absolutely neccessary metadata (time, elevation) is read from the files to be used for aligning into the structure.\n",
    "\n",
    "Normally `h5py` is the most performant loader for `ODIM` data. But your mileage may vary.\n",
    "\n",
    "This means that every file is opened once and the filehandle is distributed to `XRadSweep`. If `XRadSweep` will be destroyed, the memory will be ready for garbage collection.\n",
    "\n",
    "Under the hood `netcdf4` or `h5netcdf` will be used to open data as `xarray.Dataset` depending on the loader-type. All filehandling issues are moved to xarray. No memory holes, no need to track filehandles."
   ]
  },
  {
   "cell_type": "code",
   "execution_count": 9,
   "metadata": {
    "scrolled": true
   },
   "outputs": [
    {
     "name": "stderr",
     "output_type": "stream",
     "text": [
      "\r",
      "Open:   0%|          | 0/32 [00:00<?, ? Files/s]"
     ]
    },
    {
     "name": "stderr",
     "output_type": "stream",
     "text": [
      "\r",
      "Open:  25%|██▌       | 8/32 [00:00<00:00, 75.96 Files/s]"
     ]
    },
    {
     "name": "stderr",
     "output_type": "stream",
     "text": [
      "\r",
      "Open:  53%|█████▎    | 17/32 [00:00<00:00, 78.76 Files/s]"
     ]
    },
    {
     "name": "stderr",
     "output_type": "stream",
     "text": [
      "\r",
      "Open:  72%|███████▏  | 23/32 [00:00<00:00, 70.27 Files/s]"
     ]
    },
    {
     "name": "stderr",
     "output_type": "stream",
     "text": [
      "\r",
      "Open:  97%|█████████▋| 31/32 [00:00<00:00, 72.43 Files/s]"
     ]
    },
    {
     "name": "stderr",
     "output_type": "stream",
     "text": [
      "\r",
      "Open: 100%|██████████| 32/32 [00:00<00:00, 73.94 Files/s]"
     ]
    },
    {
     "name": "stderr",
     "output_type": "stream",
     "text": [
      "\n",
      "\r",
      "Collecting:   0%|          | 0/12 [00:00<?, ? Angles/s]"
     ]
    },
    {
     "name": "stderr",
     "output_type": "stream",
     "text": [
      "\r",
      "Collecting:  58%|█████▊    | 7/12 [00:00<00:00, 64.48 Angles/s]"
     ]
    },
    {
     "name": "stderr",
     "output_type": "stream",
     "text": [
      "\r",
      "Collecting: 100%|██████████| 12/12 [00:00<00:00, 69.47 Angles/s]"
     ]
    },
    {
     "name": "stderr",
     "output_type": "stream",
     "text": [
      "\n"
     ]
    },
    {
     "name": "stdout",
     "output_type": "stream",
     "text": [
      "CPU times: user 686 ms, sys: 24.2 ms, total: 710 ms\n",
      "Wall time: 896 ms\n"
     ]
    }
   ],
   "source": [
    "%%time\n",
    "vol = wrl.io.xarray.open_odim(f, loader='h5py', chunks={})"
   ]
  },
  {
   "cell_type": "markdown",
   "metadata": {},
   "source": [
    "## Check open files"
   ]
  },
  {
   "cell_type": "code",
   "execution_count": 10,
   "metadata": {},
   "outputs": [
    {
     "name": "stdout",
     "output_type": "stream",
     "text": [
      "32\n"
     ]
    }
   ],
   "source": [
    "check_open_files()"
   ]
  },
  {
   "cell_type": "markdown",
   "metadata": {},
   "source": [
    "## Overview type and lenght"
   ]
  },
  {
   "cell_type": "code",
   "execution_count": 11,
   "metadata": {},
   "outputs": [
    {
     "name": "stdout",
     "output_type": "stream",
     "text": [
      "Volume: <class 'wradlib.io.xarray.XRadVolume'> 12\n",
      "TimeSeries: <class 'wradlib.io.xarray.XRadTimeSeries'> 8\n",
      "Sweep: <class 'wradlib.io.xarray.XRadSweepOdim'> 4\n",
      "Moment: <class 'wradlib.io.xarray.XRadMoment'> WRAD\n"
     ]
    }
   ],
   "source": [
    "print(\"Volume:\", type(vol), len(vol))\n",
    "print(\"TimeSeries:\", type(vol[0]), len(vol[0]))\n",
    "print(\"Sweep:\", type(vol[0][0]), len(vol[0][0]))\n",
    "print(\"Moment:\", type(vol[0][0][0]), vol[0][0][0].quantity)"
   ]
  },
  {
   "cell_type": "markdown",
   "metadata": {},
   "source": [
    "## Overview Contents (__repr__())\n",
    "\n",
    "When printing the objects, they tell us a little about themselves and the data they can get access to. "
   ]
  },
  {
   "cell_type": "markdown",
   "metadata": {},
   "source": [
    "### Volume\n",
    "\n",
    "Here we see, that it is of type `wradlib.XRadVolume`. It holds 12 sweeps with the shown elevations."
   ]
  },
  {
   "cell_type": "code",
   "execution_count": 12,
   "metadata": {},
   "outputs": [
    {
     "name": "stdout",
     "output_type": "stream",
     "text": [
      "<wradlib.XRadVolume>\n",
      "Dimension(s): (sweep: 12)\n",
      "Elevation(s): (25.0, 20.0, 16.0, 13.0, 10.0, 7.5, 5.0, 3.0, 1.8, 0.8, 0.5, 0.3)\n"
     ]
    }
   ],
   "source": [
    "print(vol)"
   ]
  },
  {
   "cell_type": "markdown",
   "metadata": {},
   "source": [
    "### TimeSeries\n",
    "\n",
    "Here we see, that it is of type `wradlib.XRadTimeseries`. It holds 8 timesteps with a data layout of 360 azimuths by 800 range bins. The elevation is 25.0 deg."
   ]
  },
  {
   "cell_type": "code",
   "execution_count": 13,
   "metadata": {},
   "outputs": [
    {
     "name": "stdout",
     "output_type": "stream",
     "text": [
      "<wradlib.XRadTimeSeries>\n",
      "Dimension(s): (time: 8, azimuth: 360, range: 800)\n",
      "Elevation(s): (25.0)\n"
     ]
    }
   ],
   "source": [
    "print(vol[0])"
   ]
  },
  {
   "cell_type": "markdown",
   "metadata": {},
   "source": [
    "### Sweep\n",
    "\n",
    "Here we see, that it is of type `wradlib.XRadSweepOdim`, which means it is leaded from ODIMH5 standard data. It holds data with layout of 360 azimuths by 800 range bins. The elevation is 25.0 deg. It consists of the radar moments `DBZH`, `RHOHV`, `VRAD` and `WRAD`."
   ]
  },
  {
   "cell_type": "code",
   "execution_count": 14,
   "metadata": {},
   "outputs": [
    {
     "name": "stdout",
     "output_type": "stream",
     "text": [
      "<wradlib.XRadSweepOdim>\n",
      "Dimension(s): (azimuth: 360, range: 800)\n",
      "Elevation(s): (25.0)\n",
      "Moment(s): (WRAD, DBZH, RHOHV, VRAD)\n"
     ]
    }
   ],
   "source": [
    "print(vol[0][0])"
   ]
  },
  {
   "cell_type": "markdown",
   "metadata": {},
   "source": [
    "### Moment\n",
    "\n",
    "Here we see, that it is of type `wradlib.XRadMoment`. It holds data with layout of 360 azimuths by 800 range bins. The elevation is 25.0 deg. It is the radar moment `DBZH`."
   ]
  },
  {
   "cell_type": "code",
   "execution_count": 15,
   "metadata": {},
   "outputs": [
    {
     "name": "stdout",
     "output_type": "stream",
     "text": [
      "<wradlib.XRadMoment>\n",
      "Dimension(s): (azimuth: 360, range: 800)\n",
      "Elevation(s): (25.0)\n",
      "Moment: (WRAD)\n"
     ]
    }
   ],
   "source": [
    "print(vol[0][0][0])"
   ]
  },
  {
   "cell_type": "markdown",
   "metadata": {},
   "source": [
    "## Accessing metadata via `OdimH5GroupAttributeMixin`\n",
    "\n",
    "\n",
    "You can access underlying metadata for every object. The properties `ncpath`, `ncid`, `ncfile` and `filename` give information about the location of the metadata. Properties `groups` and `attrs` give information about attached subgroups and attributes. `how`, `what` and `where` return the contents of the respective ODIMH5-subgroups if available.\n",
    "\n",
    "As long as the objects are not deleted the according files are open and the handles can be used to retrieve data from it."
   ]
  },
  {
   "cell_type": "markdown",
   "metadata": {},
   "source": [
    "### Volume\n",
    "\n",
    "The `OdimH5GroupAttributeMixin` access in `XRadVolume` will retrieve the root-metadata of the first file of the first timeseries, which is the first volume file in most cases."
   ]
  },
  {
   "cell_type": "code",
   "execution_count": 16,
   "metadata": {},
   "outputs": [
    {
     "name": "stdout",
     "output_type": "stream",
     "text": [
      "path: /\n",
      "  id: <HDF5 group \"/\" (15 members)>\n",
      "file: <HDF5 file \"20200207130000.rad.behel.pvol.wrad.scanz.hdf\" (mode r)>\n",
      "name: /home/travis/build/wradlib/wradlib-notebooks/wradlib-data/hdf5/behel/20200207130000.rad.behel.pvol.wrad.scanz.hdf\n"
     ]
    }
   ],
   "source": [
    "print(\"path:\", vol.ncpath)\n",
    "print(\"  id:\", vol.ncid)\n",
    "print(\"file:\", vol.ncfile)\n",
    "print(\"name:\", vol.filename)"
   ]
  },
  {
   "cell_type": "code",
   "execution_count": 17,
   "metadata": {},
   "outputs": [
    {
     "name": "stdout",
     "output_type": "stream",
     "text": [
      "['dataset1', 'dataset10', 'dataset11', 'dataset12', 'dataset2', 'dataset3', 'dataset4', 'dataset5', 'dataset6', 'dataset7', 'dataset8', 'dataset9', 'how', 'what', 'where']\n"
     ]
    }
   ],
   "source": [
    "print(vol.groups)"
   ]
  },
  {
   "cell_type": "code",
   "execution_count": 18,
   "metadata": {},
   "outputs": [
    {
     "name": "stdout",
     "output_type": "stream",
     "text": [
      "{'Conventions': 'ODIM_H5/V2_0'}\n"
     ]
    }
   ],
   "source": [
    "print(vol.attrs)"
   ]
  },
  {
   "cell_type": "code",
   "execution_count": 19,
   "metadata": {},
   "outputs": [
    {
     "name": "stdout",
     "output_type": "stream",
     "text": [
      "{'beamwidth': 0.948, 'endepochs': 1581080424, 'highprf': 550, 'lowprf': 0, 'software': 'RAINBOW 5.42.9', 'startepochs': 1581080648, 'system': 'BEHEL', 'wavelength': 5.349}\n"
     ]
    }
   ],
   "source": [
    "print(vol.how)"
   ]
  },
  {
   "cell_type": "code",
   "execution_count": 20,
   "metadata": {},
   "outputs": [
    {
     "name": "stdout",
     "output_type": "stream",
     "text": [
      "{'date': '20200207', 'object': 'PVOL', 'source': 'WMO:06475', 'time': '130005', 'version': 'H5rad 2.0'}\n"
     ]
    }
   ],
   "source": [
    "print(vol.what)"
   ]
  },
  {
   "cell_type": "code",
   "execution_count": 21,
   "metadata": {},
   "outputs": [
    {
     "name": "stdout",
     "output_type": "stream",
     "text": [
      "{'height': 140.0, 'lat': 51.069072, 'lon': 5.4064}\n"
     ]
    }
   ],
   "source": [
    "print(vol.where)"
   ]
  },
  {
   "cell_type": "markdown",
   "metadata": {},
   "source": [
    "### Timeseries\n",
    "\n",
    "The `OdimH5GroupAttributeMixin` access in `XRadTimeseries` will retrieve the group-metadata of the first sweep of the selected timeseries."
   ]
  },
  {
   "cell_type": "code",
   "execution_count": 22,
   "metadata": {},
   "outputs": [
    {
     "name": "stdout",
     "output_type": "stream",
     "text": [
      "path: dataset12\n",
      "  id: <HDF5 group \"/dataset12\" (4 members)>\n",
      "file: <HDF5 file \"20200207130000.rad.behel.pvol.wrad.scanz.hdf\" (mode r)>\n",
      "name: /home/travis/build/wradlib/wradlib-notebooks/wradlib-data/hdf5/behel/20200207130000.rad.behel.pvol.wrad.scanz.hdf\n"
     ]
    }
   ],
   "source": [
    "ts = vol[0]\n",
    "print(\"path:\", ts.ncpath)\n",
    "print(\"  id:\", ts.ncid)\n",
    "print(\"file:\", ts.ncfile)\n",
    "print(\"name:\", ts.filename)"
   ]
  },
  {
   "cell_type": "code",
   "execution_count": 23,
   "metadata": {},
   "outputs": [
    {
     "name": "stdout",
     "output_type": "stream",
     "text": [
      "['data1', 'how', 'what', 'where']\n"
     ]
    }
   ],
   "source": [
    "print(ts.groups)"
   ]
  },
  {
   "cell_type": "code",
   "execution_count": 24,
   "metadata": {},
   "outputs": [
    {
     "name": "stdout",
     "output_type": "stream",
     "text": [
      "{}\n"
     ]
    }
   ],
   "source": [
    "print(ts.attrs)"
   ]
  },
  {
   "cell_type": "code",
   "execution_count": 25,
   "metadata": {},
   "outputs": [
    {
     "name": "stdout",
     "output_type": "stream",
     "text": [
      "{'azangles': '0:1,1:2,2:3,3:4,4:5,5:6,6:7,7:8,8:9,9:10,10:11,11:12,12:13,13:14,14:15,15:16,16:17,17:18,18:19,19:20,20:21,21:22,22:23,23:24,24:25,25:26,26:27,27:28,28:29,29:30,30:31,31:32,32:33,33:34,34:35,35:36,36:37,37:38,38:39,39:40,40:41,41:42,42:43,43:44,44:45,45:46,46:47,47:48,48:49,49:50,50:51,51:52,52:53,53:54,54:55,55:56,56:57,57:58,58:59,59:60,60:61,61:62,62:63,63:64,64:65,65:66,66:67,67:68,68:69,69:70,70:71,71:72,72:73,73:74,74:75,75:76,76:77,77:78,78:79,79:80,80:81,81:82,82:83,83:84,84:85,85:86,86:87,87:88,88:89,89:90,90:91,91:92,92:93,93:94,94:95,95:96,96:97,97:98,98:99,99:100,100:101,101:102,102:103,103:104,104:105,105:106,106:107,107:108,108:109,109:110,110:111,111:112,112:113,113:114,114:115,115:116,116:117,117:118,118:119,119:120,120:121,121:122,122:123,123:124,124:125,125:126,126:127,127:128,128:129,129:130,130:131,131:132,132:133,133:134,134:135,135:136,136:137,137:138,138:139,139:140,140:141,141:142,142:143,143:144,144:145,145:146,146:147,147:148,148:149,149:150,150:151,151:152,152:153,153:154,154:155,155:156,156:157,157:158,158:159,159:160,160:161,161:162,162:163,163:164,164:165,165:166,166:167,167:168,168:169,169:170,170:171,171:172,172:173,173:174,174:175,175:176,176:177,177:178,178:179,179:180,180:181,181:182,182:183,183:184,184:185,185:186,186:187,187:188,188:189,189:190,190:191,191:192,192:193,193:194,194:195,195:196,196:197,197:198,198:199,199:200,200:201,201:202,202:203,203:204,204:205,205:206,206:207,207:208,208:209,209:210,210:211,211:212,212:213,213:214,214:215,215:216,216:217,217:218,218:219,219:220,220:221,221:222,222:223,223:224,224:225,225:226,226:227,227:228,228:229,229:230,230:231,231:232,232:233,233:234,234:235,235:236,236:237,237:238,238:239,239:240,240:241,241:242,242:243,243:244,244:245,245:246,246:247,247:248,248:249,249:250,250:251,251:252,252:253,253:254,254:255,255:256,256:257,257:258,258:259,259:260,260:261,261:262,262:263,263:264,264:265,265:266,266:267,267:268,268:269,269:270,270:271,271:272,272:273,273:274,274:275,275:276,276:277,277:278,278:279,279:280,280:281,281:282,282:283,283:284,284:285,285:286,286:287,287:288,288:289,289:290,290:291,291:292,292:293,293:294,294:295,295:296,296:297,297:298,298:299,299:300,300:301,301:302,302:303,303:304,304:305,305:306,306:307,307:308,308:309,309:310,310:311,311:312,312:313,313:314,314:315,315:316,316:317,317:318,318:319,319:320,320:321,321:322,322:323,323:324,324:325,325:326,326:327,327:328,328:329,329:330,330:331,331:332,332:333,333:334,334:335,335:336,336:337,337:338,338:339,339:340,340:341,341:342,342:343,343:344,344:345,345:346,346:347,347:348,348:349,349:350,350:351,351:352,352:353,353:354,354:355,355:356,356:357,357:358,358:359,359:360,'}\n"
     ]
    }
   ],
   "source": [
    "print(ts.how)"
   ]
  },
  {
   "cell_type": "code",
   "execution_count": 26,
   "metadata": {},
   "outputs": [
    {
     "name": "stdout",
     "output_type": "stream",
     "text": [
      "{'enddate': '20200207', 'endtime': '130024', 'product': 'SCAN', 'startdate': '20200207', 'starttime': '130005'}\n"
     ]
    }
   ],
   "source": [
    "print(ts.what)"
   ]
  },
  {
   "cell_type": "code",
   "execution_count": 27,
   "metadata": {},
   "outputs": [
    {
     "name": "stdout",
     "output_type": "stream",
     "text": [
      "{'a1gate': 266, 'elangle': 25.0, 'nbins': 800, 'nrays': 360, 'rscale': 250.0, 'rstart': 0.0}\n"
     ]
    }
   ],
   "source": [
    "print(ts.where)"
   ]
  },
  {
   "cell_type": "markdown",
   "metadata": {},
   "source": [
    "### Sweep\n",
    "\n",
    "The `OdimH5GroupAttributeMixin` access in `XRadSweep` will retrieve the group-metadata of the selected sweep."
   ]
  },
  {
   "cell_type": "code",
   "execution_count": 28,
   "metadata": {},
   "outputs": [
    {
     "name": "stdout",
     "output_type": "stream",
     "text": [
      "path: dataset12\n",
      "  id: <HDF5 group \"/dataset12\" (4 members)>\n",
      "file: <HDF5 file \"20200207130000.rad.behel.pvol.wrad.scanz.hdf\" (mode r)>"
     ]
    },
    {
     "name": "stdout",
     "output_type": "stream",
     "text": [
      "\n",
      "name: /home/travis/build/wradlib/wradlib-notebooks/wradlib-data/hdf5/behel/20200207130000.rad.behel.pvol.wrad.scanz.hdf\n"
     ]
    }
   ],
   "source": [
    "swp = vol[0][0]\n",
    "print(\"path:\", swp.ncpath)\n",
    "print(\"  id:\", swp.ncid)\n",
    "print(\"file:\", swp.ncfile)\n",
    "print(\"name:\", swp.filename)"
   ]
  },
  {
   "cell_type": "code",
   "execution_count": 29,
   "metadata": {},
   "outputs": [
    {
     "name": "stdout",
     "output_type": "stream",
     "text": [
      "['data1', 'how', 'what', 'where']"
     ]
    },
    {
     "name": "stdout",
     "output_type": "stream",
     "text": [
      "\n"
     ]
    }
   ],
   "source": [
    "print(swp.groups)"
   ]
  },
  {
   "cell_type": "code",
   "execution_count": 30,
   "metadata": {},
   "outputs": [
    {
     "name": "stdout",
     "output_type": "stream",
     "text": [
      "{}\n"
     ]
    }
   ],
   "source": [
    "print(swp.attrs)"
   ]
  },
  {
   "cell_type": "code",
   "execution_count": 31,
   "metadata": {},
   "outputs": [
    {
     "name": "stdout",
     "output_type": "stream",
     "text": [
      "{'azangles': '0:1,1:2,2:3,3:4,4:5,5:6,6:7,7:8,8:9,9:10,10:11,11:12,12:13,13:14,14:15,15:16,16:17,17:18,18:19,19:20,20:21,21:22,22:23,23:24,24:25,25:26,26:27,27:28,28:29,29:30,30:31,31:32,32:33,33:34,34:35,35:36,36:37,37:38,38:39,39:40,40:41,41:42,42:43,43:44,44:45,45:46,46:47,47:48,48:49,49:50,50:51,51:52,52:53,53:54,54:55,55:56,56:57,57:58,58:59,59:60,60:61,61:62,62:63,63:64,64:65,65:66,66:67,67:68,68:69,69:70,70:71,71:72,72:73,73:74,74:75,75:76,76:77,77:78,78:79,79:80,80:81,81:82,82:83,83:84,84:85,85:86,86:87,87:88,88:89,89:90,90:91,91:92,92:93,93:94,94:95,95:96,96:97,97:98,98:99,99:100,100:101,101:102,102:103,103:104,104:105,105:106,106:107,107:108,108:109,109:110,110:111,111:112,112:113,113:114,114:115,115:116,116:117,117:118,118:119,119:120,120:121,121:122,122:123,123:124,124:125,125:126,126:127,127:128,128:129,129:130,130:131,131:132,132:133,133:134,134:135,135:136,136:137,137:138,138:139,139:140,140:141,141:142,142:143,143:144,144:145,145:146,146:147,147:148,148:149,149:150,150:151,151:152,152:153,153:154,154:155,155:156,156:157,157:158,158:159,159:160,160:161,161:162,162:163,163:164,164:165,165:166,166:167,167:168,168:169,169:170,170:171,171:172,172:173,173:174,174:175,175:176,176:177,177:178,178:179,179:180,180:181,181:182,182:183,183:184,184:185,185:186,186:187,187:188,188:189,189:190,190:191,191:192,192:193,193:194,194:195,195:196,196:197,197:198,198:199,199:200,200:201,201:202,202:203,203:204,204:205,205:206,206:207,207:208,208:209,209:210,210:211,211:212,212:213,213:214,214:215,215:216,216:217,217:218,218:219,219:220,220:221,221:222,222:223,223:224,224:225,225:226,226:227,227:228,228:229,229:230,230:231,231:232,232:233,233:234,234:235,235:236,236:237,237:238,238:239,239:240,240:241,241:242,242:243,243:244,244:245,245:246,246:247,247:248,248:249,249:250,250:251,251:252,252:253,253:254,254:255,255:256,256:257,257:258,258:259,259:260,260:261,261:262,262:263,263:264,264:265,265:266,266:267,267:268,268:269,269:270,270:271,271:272,272:273,273:274,274:275,275:276,276:277,277:278,278:279,279:280,280:281,281:282,282:283,283:284,284:285,285:286,286:287,287:288,288:289,289:290,290:291,291:292,292:293,293:294,294:295,295:296,296:297,297:298,298:299,299:300,300:301,301:302,302:303,303:304,304:305,305:306,306:307,307:308,308:309,309:310,310:311,311:312,312:313,313:314,314:315,315:316,316:317,317:318,318:319,319:320,320:321,321:322,322:323,323:324,324:325,325:326,326:327,327:328,328:329,329:330,330:331,331:332,332:333,333:334,334:335,335:336,336:337,337:338,338:339,339:340,340:341,341:342,342:343,343:344,344:345,345:346,346:347,347:348,348:349,349:350,350:351,351:352,352:353,353:354,354:355,355:356,356:357,357:358,358:359,359:360,'}\n"
     ]
    }
   ],
   "source": [
    "print(ts.how)"
   ]
  },
  {
   "cell_type": "code",
   "execution_count": 32,
   "metadata": {},
   "outputs": [
    {
     "name": "stdout",
     "output_type": "stream",
     "text": [
      "{'enddate': '20200207', 'endtime': '130024', 'product': 'SCAN', 'startdate': '20200207', 'starttime': '130005'}"
     ]
    },
    {
     "name": "stdout",
     "output_type": "stream",
     "text": [
      "\n"
     ]
    }
   ],
   "source": [
    "print(ts.what)"
   ]
  },
  {
   "cell_type": "code",
   "execution_count": 33,
   "metadata": {},
   "outputs": [
    {
     "name": "stdout",
     "output_type": "stream",
     "text": [
      "{'a1gate': 266, 'elangle': 25.0, 'nbins': 800, 'nrays': 360, 'rscale': 250.0, 'rstart': 0.0}\n"
     ]
    }
   ],
   "source": [
    "print(ts.where)"
   ]
  },
  {
   "cell_type": "markdown",
   "metadata": {},
   "source": [
    "### Moment\n",
    "\n",
    "The `OdimH5GroupAttributeMixin` access in `XRadMoment` will retrieve the group-metadata of the selected moment."
   ]
  },
  {
   "cell_type": "code",
   "execution_count": 34,
   "metadata": {},
   "outputs": [
    {
     "name": "stdout",
     "output_type": "stream",
     "text": [
      "path: dataset12/data1\n",
      "  id: <HDF5 group \"/dataset12/data1\" (2 members)>\n",
      "file: <HDF5 file \"20200207130000.rad.behel.pvol.wrad.scanz.hdf\" (mode r)>\n",
      "name: /home/travis/build/wradlib/wradlib-notebooks/wradlib-data/hdf5/behel/20200207130000.rad.behel.pvol.wrad.scanz.hdf\n"
     ]
    }
   ],
   "source": [
    "mom = vol[0][0][0]\n",
    "print(\"path:\", mom.ncpath)\n",
    "print(\"  id:\", mom.ncid)\n",
    "print(\"file:\", mom.ncfile)\n",
    "print(\"name:\", mom.filename)"
   ]
  },
  {
   "cell_type": "code",
   "execution_count": 35,
   "metadata": {},
   "outputs": [
    {
     "name": "stdout",
     "output_type": "stream",
     "text": [
      "['data', 'what']\n"
     ]
    }
   ],
   "source": [
    "print(mom.groups)"
   ]
  },
  {
   "cell_type": "code",
   "execution_count": 36,
   "metadata": {},
   "outputs": [
    {
     "name": "stdout",
     "output_type": "stream",
     "text": [
      "{}\n"
     ]
    }
   ],
   "source": [
    "print(mom.attrs)"
   ]
  },
  {
   "cell_type": "code",
   "execution_count": 37,
   "metadata": {},
   "outputs": [
    {
     "name": "stdout",
     "output_type": "stream",
     "text": [
      "{'gain': 0.028729410292067395, 'nodata': 255.0, 'offset': 5.891458608048294e-07, 'quantity': 'WRAD', 'undetect': 0.0}\n"
     ]
    }
   ],
   "source": [
    "print(mom.what)"
   ]
  },
  {
   "cell_type": "markdown",
   "metadata": {},
   "source": [
    "## CfRadial2 style root object\n",
    "\n",
    "The XRadVolume object is equipped with a CfRadial2-style `root`-object, where some information can be retrieved. "
   ]
  },
  {
   "cell_type": "code",
   "execution_count": 38,
   "metadata": {},
   "outputs": [
    {
     "data": {
      "text/html": [
       "<div><svg style=\"position: absolute; width: 0; height: 0; overflow: hidden\">\n",
       "<defs>\n",
       "<symbol id=\"icon-database\" viewBox=\"0 0 32 32\">\n",
       "<title>Show/Hide data repr</title>\n",
       "<path d=\"M16 0c-8.837 0-16 2.239-16 5v4c0 2.761 7.163 5 16 5s16-2.239 16-5v-4c0-2.761-7.163-5-16-5z\"></path>\n",
       "<path d=\"M16 17c-8.837 0-16-2.239-16-5v6c0 2.761 7.163 5 16 5s16-2.239 16-5v-6c0 2.761-7.163 5-16 5z\"></path>\n",
       "<path d=\"M16 26c-8.837 0-16-2.239-16-5v6c0 2.761 7.163 5 16 5s16-2.239 16-5v-6c0 2.761-7.163 5-16 5z\"></path>\n",
       "</symbol>\n",
       "<symbol id=\"icon-file-text2\" viewBox=\"0 0 32 32\">\n",
       "<title>Show/Hide attributes</title>\n",
       "<path d=\"M28.681 7.159c-0.694-0.947-1.662-2.053-2.724-3.116s-2.169-2.030-3.116-2.724c-1.612-1.182-2.393-1.319-2.841-1.319h-15.5c-1.378 0-2.5 1.121-2.5 2.5v27c0 1.378 1.122 2.5 2.5 2.5h23c1.378 0 2.5-1.122 2.5-2.5v-19.5c0-0.448-0.137-1.23-1.319-2.841zM24.543 5.457c0.959 0.959 1.712 1.825 2.268 2.543h-4.811v-4.811c0.718 0.556 1.584 1.309 2.543 2.268zM28 29.5c0 0.271-0.229 0.5-0.5 0.5h-23c-0.271 0-0.5-0.229-0.5-0.5v-27c0-0.271 0.229-0.5 0.5-0.5 0 0 15.499-0 15.5 0v7c0 0.552 0.448 1 1 1h7v19.5z\"></path>\n",
       "<path d=\"M23 26h-14c-0.552 0-1-0.448-1-1s0.448-1 1-1h14c0.552 0 1 0.448 1 1s-0.448 1-1 1z\"></path>\n",
       "<path d=\"M23 22h-14c-0.552 0-1-0.448-1-1s0.448-1 1-1h14c0.552 0 1 0.448 1 1s-0.448 1-1 1z\"></path>\n",
       "<path d=\"M23 18h-14c-0.552 0-1-0.448-1-1s0.448-1 1-1h14c0.552 0 1 0.448 1 1s-0.448 1-1 1z\"></path>\n",
       "</symbol>\n",
       "</defs>\n",
       "</svg>\n",
       "<style>/* CSS stylesheet for displaying xarray objects in jupyterlab.\n",
       " *\n",
       " */\n",
       "\n",
       ":root {\n",
       "  --xr-font-color0: var(--jp-content-font-color0, rgba(0, 0, 0, 1));\n",
       "  --xr-font-color2: var(--jp-content-font-color2, rgba(0, 0, 0, 0.54));\n",
       "  --xr-font-color3: var(--jp-content-font-color3, rgba(0, 0, 0, 0.38));\n",
       "  --xr-border-color: var(--jp-border-color2, #e0e0e0);\n",
       "  --xr-disabled-color: var(--jp-layout-color3, #bdbdbd);\n",
       "  --xr-background-color: var(--jp-layout-color0, white);\n",
       "  --xr-background-color-row-even: var(--jp-layout-color1, white);\n",
       "  --xr-background-color-row-odd: var(--jp-layout-color2, #eeeeee);\n",
       "}\n",
       "\n",
       ".xr-wrap {\n",
       "  min-width: 300px;\n",
       "  max-width: 700px;\n",
       "}\n",
       "\n",
       ".xr-header {\n",
       "  padding-top: 6px;\n",
       "  padding-bottom: 6px;\n",
       "  margin-bottom: 4px;\n",
       "  border-bottom: solid 1px var(--xr-border-color);\n",
       "}\n",
       "\n",
       ".xr-header > div,\n",
       ".xr-header > ul {\n",
       "  display: inline;\n",
       "  margin-top: 0;\n",
       "  margin-bottom: 0;\n",
       "}\n",
       "\n",
       ".xr-obj-type,\n",
       ".xr-array-name {\n",
       "  margin-left: 2px;\n",
       "  margin-right: 10px;\n",
       "}\n",
       "\n",
       ".xr-obj-type {\n",
       "  color: var(--xr-font-color2);\n",
       "}\n",
       "\n",
       ".xr-sections {\n",
       "  padding-left: 0 !important;\n",
       "  display: grid;\n",
       "  grid-template-columns: 150px auto auto 1fr 20px 20px;\n",
       "}\n",
       "\n",
       ".xr-section-item {\n",
       "  display: contents;\n",
       "}\n",
       "\n",
       ".xr-section-item input {\n",
       "  display: none;\n",
       "}\n",
       "\n",
       ".xr-section-item input + label {\n",
       "  color: var(--xr-disabled-color);\n",
       "}\n",
       "\n",
       ".xr-section-item input:enabled + label {\n",
       "  cursor: pointer;\n",
       "  color: var(--xr-font-color2);\n",
       "}\n",
       "\n",
       ".xr-section-item input:enabled + label:hover {\n",
       "  color: var(--xr-font-color0);\n",
       "}\n",
       "\n",
       ".xr-section-summary {\n",
       "  grid-column: 1;\n",
       "  color: var(--xr-font-color2);\n",
       "  font-weight: 500;\n",
       "}\n",
       "\n",
       ".xr-section-summary > span {\n",
       "  display: inline-block;\n",
       "  padding-left: 0.5em;\n",
       "}\n",
       "\n",
       ".xr-section-summary-in:disabled + label {\n",
       "  color: var(--xr-font-color2);\n",
       "}\n",
       "\n",
       ".xr-section-summary-in + label:before {\n",
       "  display: inline-block;\n",
       "  content: '►';\n",
       "  font-size: 11px;\n",
       "  width: 15px;\n",
       "  text-align: center;\n",
       "}\n",
       "\n",
       ".xr-section-summary-in:disabled + label:before {\n",
       "  color: var(--xr-disabled-color);\n",
       "}\n",
       "\n",
       ".xr-section-summary-in:checked + label:before {\n",
       "  content: '▼';\n",
       "}\n",
       "\n",
       ".xr-section-summary-in:checked + label > span {\n",
       "  display: none;\n",
       "}\n",
       "\n",
       ".xr-section-summary,\n",
       ".xr-section-inline-details {\n",
       "  padding-top: 4px;\n",
       "  padding-bottom: 4px;\n",
       "}\n",
       "\n",
       ".xr-section-inline-details {\n",
       "  grid-column: 2 / -1;\n",
       "}\n",
       "\n",
       ".xr-section-details {\n",
       "  display: none;\n",
       "  grid-column: 1 / -1;\n",
       "  margin-bottom: 5px;\n",
       "}\n",
       "\n",
       ".xr-section-summary-in:checked ~ .xr-section-details {\n",
       "  display: contents;\n",
       "}\n",
       "\n",
       ".xr-array-wrap {\n",
       "  grid-column: 1 / -1;\n",
       "  display: grid;\n",
       "  grid-template-columns: 20px auto;\n",
       "}\n",
       "\n",
       ".xr-array-wrap > label {\n",
       "  grid-column: 1;\n",
       "  vertical-align: top;\n",
       "}\n",
       "\n",
       ".xr-preview {\n",
       "  color: var(--xr-font-color3);\n",
       "}\n",
       "\n",
       ".xr-array-preview,\n",
       ".xr-array-data {\n",
       "  padding: 0 5px !important;\n",
       "  grid-column: 2;\n",
       "}\n",
       "\n",
       ".xr-array-data,\n",
       ".xr-array-in:checked ~ .xr-array-preview {\n",
       "  display: none;\n",
       "}\n",
       "\n",
       ".xr-array-in:checked ~ .xr-array-data,\n",
       ".xr-array-preview {\n",
       "  display: inline-block;\n",
       "}\n",
       "\n",
       ".xr-dim-list {\n",
       "  display: inline-block !important;\n",
       "  list-style: none;\n",
       "  padding: 0 !important;\n",
       "  margin: 0;\n",
       "}\n",
       "\n",
       ".xr-dim-list li {\n",
       "  display: inline-block;\n",
       "  padding: 0;\n",
       "  margin: 0;\n",
       "}\n",
       "\n",
       ".xr-dim-list:before {\n",
       "  content: '(';\n",
       "}\n",
       "\n",
       ".xr-dim-list:after {\n",
       "  content: ')';\n",
       "}\n",
       "\n",
       ".xr-dim-list li:not(:last-child):after {\n",
       "  content: ',';\n",
       "  padding-right: 5px;\n",
       "}\n",
       "\n",
       ".xr-has-index {\n",
       "  font-weight: bold;\n",
       "}\n",
       "\n",
       ".xr-var-list,\n",
       ".xr-var-item {\n",
       "  display: contents;\n",
       "}\n",
       "\n",
       ".xr-var-item > div,\n",
       ".xr-var-item label,\n",
       ".xr-var-item > .xr-var-name span {\n",
       "  background-color: var(--xr-background-color-row-even);\n",
       "  margin-bottom: 0;\n",
       "}\n",
       "\n",
       ".xr-var-item > .xr-var-name:hover span {\n",
       "  padding-right: 5px;\n",
       "}\n",
       "\n",
       ".xr-var-list > li:nth-child(odd) > div,\n",
       ".xr-var-list > li:nth-child(odd) > label,\n",
       ".xr-var-list > li:nth-child(odd) > .xr-var-name span {\n",
       "  background-color: var(--xr-background-color-row-odd);\n",
       "}\n",
       "\n",
       ".xr-var-name {\n",
       "  grid-column: 1;\n",
       "}\n",
       "\n",
       ".xr-var-dims {\n",
       "  grid-column: 2;\n",
       "}\n",
       "\n",
       ".xr-var-dtype {\n",
       "  grid-column: 3;\n",
       "  text-align: right;\n",
       "  color: var(--xr-font-color2);\n",
       "}\n",
       "\n",
       ".xr-var-preview {\n",
       "  grid-column: 4;\n",
       "}\n",
       "\n",
       ".xr-var-name,\n",
       ".xr-var-dims,\n",
       ".xr-var-dtype,\n",
       ".xr-preview,\n",
       ".xr-attrs dt {\n",
       "  white-space: nowrap;\n",
       "  overflow: hidden;\n",
       "  text-overflow: ellipsis;\n",
       "  padding-right: 10px;\n",
       "}\n",
       "\n",
       ".xr-var-name:hover,\n",
       ".xr-var-dims:hover,\n",
       ".xr-var-dtype:hover,\n",
       ".xr-attrs dt:hover {\n",
       "  overflow: visible;\n",
       "  width: auto;\n",
       "  z-index: 1;\n",
       "}\n",
       "\n",
       ".xr-var-attrs,\n",
       ".xr-var-data {\n",
       "  display: none;\n",
       "  background-color: var(--xr-background-color) !important;\n",
       "  padding-bottom: 5px !important;\n",
       "}\n",
       "\n",
       ".xr-var-attrs-in:checked ~ .xr-var-attrs,\n",
       ".xr-var-data-in:checked ~ .xr-var-data {\n",
       "  display: block;\n",
       "}\n",
       "\n",
       ".xr-var-data > table {\n",
       "  float: right;\n",
       "}\n",
       "\n",
       ".xr-var-name span,\n",
       ".xr-var-data,\n",
       ".xr-attrs {\n",
       "  padding-left: 25px !important;\n",
       "}\n",
       "\n",
       ".xr-attrs,\n",
       ".xr-var-attrs,\n",
       ".xr-var-data {\n",
       "  grid-column: 1 / -1;\n",
       "}\n",
       "\n",
       "dl.xr-attrs {\n",
       "  padding: 0;\n",
       "  margin: 0;\n",
       "  display: grid;\n",
       "  grid-template-columns: 125px auto;\n",
       "}\n",
       "\n",
       ".xr-attrs dt, dd {\n",
       "  padding: 0;\n",
       "  margin: 0;\n",
       "  float: left;\n",
       "  padding-right: 10px;\n",
       "  width: auto;\n",
       "}\n",
       "\n",
       ".xr-attrs dt {\n",
       "  font-weight: normal;\n",
       "  grid-column: 1;\n",
       "}\n",
       "\n",
       ".xr-attrs dt:hover span {\n",
       "  display: inline-block;\n",
       "  background: var(--xr-background-color);\n",
       "  padding-right: 10px;\n",
       "}\n",
       "\n",
       ".xr-attrs dd {\n",
       "  grid-column: 2;\n",
       "  white-space: pre-wrap;\n",
       "  word-break: break-all;\n",
       "}\n",
       "\n",
       ".xr-icon-database,\n",
       ".xr-icon-file-text2 {\n",
       "  display: inline-block;\n",
       "  vertical-align: middle;\n",
       "  width: 1em;\n",
       "  height: 1.5em !important;\n",
       "  stroke-width: 0;\n",
       "  stroke: currentColor;\n",
       "  fill: currentColor;\n",
       "}\n",
       "</style><div class='xr-wrap'><div class='xr-header'><div class='xr-obj-type'>xarray.Dataset</div></div><ul class='xr-sections'><li class='xr-section-item'><input id='section-f43cca4e-3329-44e2-8005-3cb891e75610' class='xr-section-summary-in' type='checkbox' disabled ><label for='section-f43cca4e-3329-44e2-8005-3cb891e75610' class='xr-section-summary'  title='Expand/collapse section'>Dimensions:</label><div class='xr-section-inline-details'><ul class='xr-dim-list'><li><span>sweep</span>: 12</li></ul></div><div class='xr-section-details'></div></li><li class='xr-section-item'><input id='section-1f3e9c35-f05d-4171-9a62-2c0596824251' class='xr-section-summary-in' type='checkbox' disabled ><label for='section-1f3e9c35-f05d-4171-9a62-2c0596824251' class='xr-section-summary'  title='Expand/collapse section'>Coordinates: <span>(0)</span></label><div class='xr-section-inline-details'></div><div class='xr-section-details'><ul class='xr-var-list'></ul></div></li><li class='xr-section-item'><input id='section-6cb6de17-8c3c-4de1-8ca8-0ecb7e1fd5ba' class='xr-section-summary-in' type='checkbox'  checked><label for='section-6cb6de17-8c3c-4de1-8ca8-0ecb7e1fd5ba' class='xr-section-summary' >Data variables: <span>(11)</span></label><div class='xr-section-inline-details'></div><div class='xr-section-details'><ul class='xr-var-list'><li class='xr-var-item'><div class='xr-var-name'><span>volume_number</span></div><div class='xr-var-dims'>()</div><div class='xr-var-dtype'>int64</div><div class='xr-var-preview xr-preview'>0</div><input id='attrs-1a1b8457-056d-49ea-a7d6-25f2ad42d8c0' class='xr-var-attrs-in' type='checkbox' disabled><label for='attrs-1a1b8457-056d-49ea-a7d6-25f2ad42d8c0' title='Show/Hide attributes'><svg class='icon xr-icon-file-text2'><use xlink:href='#icon-file-text2'></use></svg></label><input id='data-63fed11f-51d3-4c37-b998-85d979f065de' class='xr-var-data-in' type='checkbox'><label for='data-63fed11f-51d3-4c37-b998-85d979f065de' title='Show/Hide data repr'><svg class='icon xr-icon-database'><use xlink:href='#icon-database'></use></svg></label><div class='xr-var-attrs'><dl class='xr-attrs'></dl></div><pre class='xr-var-data'>array(0)</pre></li><li class='xr-var-item'><div class='xr-var-name'><span>platform_type</span></div><div class='xr-var-dims'>()</div><div class='xr-var-dtype'>&lt;U5</div><div class='xr-var-preview xr-preview'>&#x27;fixed&#x27;</div><input id='attrs-51b4777b-3ca3-40ba-b2a8-48a02bdaf102' class='xr-var-attrs-in' type='checkbox' disabled><label for='attrs-51b4777b-3ca3-40ba-b2a8-48a02bdaf102' title='Show/Hide attributes'><svg class='icon xr-icon-file-text2'><use xlink:href='#icon-file-text2'></use></svg></label><input id='data-6d298b49-36aa-4db7-89e4-703d63932faa' class='xr-var-data-in' type='checkbox'><label for='data-6d298b49-36aa-4db7-89e4-703d63932faa' title='Show/Hide data repr'><svg class='icon xr-icon-database'><use xlink:href='#icon-database'></use></svg></label><div class='xr-var-attrs'><dl class='xr-attrs'></dl></div><pre class='xr-var-data'>array(&#x27;fixed&#x27;, dtype=&#x27;&lt;U5&#x27;)</pre></li><li class='xr-var-item'><div class='xr-var-name'><span>instrument_type</span></div><div class='xr-var-dims'>()</div><div class='xr-var-dtype'>&lt;U5</div><div class='xr-var-preview xr-preview'>&#x27;radar&#x27;</div><input id='attrs-a8571c8b-bc30-41db-ae6d-1a1968a5dacd' class='xr-var-attrs-in' type='checkbox' disabled><label for='attrs-a8571c8b-bc30-41db-ae6d-1a1968a5dacd' title='Show/Hide attributes'><svg class='icon xr-icon-file-text2'><use xlink:href='#icon-file-text2'></use></svg></label><input id='data-aa07f6bd-c7b2-4a3d-9b26-bf99822af130' class='xr-var-data-in' type='checkbox'><label for='data-aa07f6bd-c7b2-4a3d-9b26-bf99822af130' title='Show/Hide data repr'><svg class='icon xr-icon-database'><use xlink:href='#icon-database'></use></svg></label><div class='xr-var-attrs'><dl class='xr-attrs'></dl></div><pre class='xr-var-data'>array(&#x27;radar&#x27;, dtype=&#x27;&lt;U5&#x27;)</pre></li><li class='xr-var-item'><div class='xr-var-name'><span>primary_axis</span></div><div class='xr-var-dims'>()</div><div class='xr-var-dtype'>&lt;U6</div><div class='xr-var-preview xr-preview'>&#x27;axis_z&#x27;</div><input id='attrs-d576b738-0eb4-4b5b-bac0-d88c98dbfeb7' class='xr-var-attrs-in' type='checkbox' disabled><label for='attrs-d576b738-0eb4-4b5b-bac0-d88c98dbfeb7' title='Show/Hide attributes'><svg class='icon xr-icon-file-text2'><use xlink:href='#icon-file-text2'></use></svg></label><input id='data-698699ad-f51f-4abe-8edd-9d0d03544f24' class='xr-var-data-in' type='checkbox'><label for='data-698699ad-f51f-4abe-8edd-9d0d03544f24' title='Show/Hide data repr'><svg class='icon xr-icon-database'><use xlink:href='#icon-database'></use></svg></label><div class='xr-var-attrs'><dl class='xr-attrs'></dl></div><pre class='xr-var-data'>array(&#x27;axis_z&#x27;, dtype=&#x27;&lt;U6&#x27;)</pre></li><li class='xr-var-item'><div class='xr-var-name'><span>time_coverage_start</span></div><div class='xr-var-dims'>()</div><div class='xr-var-dtype'>&lt;U20</div><div class='xr-var-preview xr-preview'>&#x27;2020-02-07T13:00:05Z&#x27;</div><input id='attrs-318e2733-7f31-4c86-87ba-d3d0bc75a746' class='xr-var-attrs-in' type='checkbox' disabled><label for='attrs-318e2733-7f31-4c86-87ba-d3d0bc75a746' title='Show/Hide attributes'><svg class='icon xr-icon-file-text2'><use xlink:href='#icon-file-text2'></use></svg></label><input id='data-ed055d60-7f51-4095-8eee-57a697b881a6' class='xr-var-data-in' type='checkbox'><label for='data-ed055d60-7f51-4095-8eee-57a697b881a6' title='Show/Hide data repr'><svg class='icon xr-icon-database'><use xlink:href='#icon-database'></use></svg></label><div class='xr-var-attrs'><dl class='xr-attrs'></dl></div><pre class='xr-var-data'>array(&#x27;2020-02-07T13:00:05Z&#x27;, dtype=&#x27;&lt;U20&#x27;)</pre></li><li class='xr-var-item'><div class='xr-var-name'><span>time_coverage_end</span></div><div class='xr-var-dims'>()</div><div class='xr-var-dtype'>&lt;U20</div><div class='xr-var-preview xr-preview'>&#x27;2020-02-07T13:39:26Z&#x27;</div><input id='attrs-6a3165a2-b414-43fe-a2ae-637de55a8bdb' class='xr-var-attrs-in' type='checkbox' disabled><label for='attrs-6a3165a2-b414-43fe-a2ae-637de55a8bdb' title='Show/Hide attributes'><svg class='icon xr-icon-file-text2'><use xlink:href='#icon-file-text2'></use></svg></label><input id='data-837201f0-e22a-42d1-9f31-6b3a6aa46735' class='xr-var-data-in' type='checkbox'><label for='data-837201f0-e22a-42d1-9f31-6b3a6aa46735' title='Show/Hide data repr'><svg class='icon xr-icon-database'><use xlink:href='#icon-database'></use></svg></label><div class='xr-var-attrs'><dl class='xr-attrs'></dl></div><pre class='xr-var-data'>array(&#x27;2020-02-07T13:39:26Z&#x27;, dtype=&#x27;&lt;U20&#x27;)</pre></li><li class='xr-var-item'><div class='xr-var-name'><span>latitude</span></div><div class='xr-var-dims'>()</div><div class='xr-var-dtype'>float64</div><div class='xr-var-preview xr-preview'>51.07</div><input id='attrs-20255ce3-8869-4c0f-bb1e-37c6773e50fb' class='xr-var-attrs-in' type='checkbox' disabled><label for='attrs-20255ce3-8869-4c0f-bb1e-37c6773e50fb' title='Show/Hide attributes'><svg class='icon xr-icon-file-text2'><use xlink:href='#icon-file-text2'></use></svg></label><input id='data-0f8f21a6-70aa-4472-8375-ad7a804b9ee2' class='xr-var-data-in' type='checkbox'><label for='data-0f8f21a6-70aa-4472-8375-ad7a804b9ee2' title='Show/Hide data repr'><svg class='icon xr-icon-database'><use xlink:href='#icon-database'></use></svg></label><div class='xr-var-attrs'><dl class='xr-attrs'></dl></div><pre class='xr-var-data'>array(51.069072)</pre></li><li class='xr-var-item'><div class='xr-var-name'><span>longitude</span></div><div class='xr-var-dims'>()</div><div class='xr-var-dtype'>float64</div><div class='xr-var-preview xr-preview'>5.406</div><input id='attrs-74848a0e-8989-424d-ae21-fea1fc6cd28b' class='xr-var-attrs-in' type='checkbox' disabled><label for='attrs-74848a0e-8989-424d-ae21-fea1fc6cd28b' title='Show/Hide attributes'><svg class='icon xr-icon-file-text2'><use xlink:href='#icon-file-text2'></use></svg></label><input id='data-2020ecd9-b4bb-45dc-b343-f186d2016280' class='xr-var-data-in' type='checkbox'><label for='data-2020ecd9-b4bb-45dc-b343-f186d2016280' title='Show/Hide data repr'><svg class='icon xr-icon-database'><use xlink:href='#icon-database'></use></svg></label><div class='xr-var-attrs'><dl class='xr-attrs'></dl></div><pre class='xr-var-data'>array(5.4064)</pre></li><li class='xr-var-item'><div class='xr-var-name'><span>altitude</span></div><div class='xr-var-dims'>()</div><div class='xr-var-dtype'>float64</div><div class='xr-var-preview xr-preview'>140.0</div><input id='attrs-f27544d4-868d-49f0-9ae1-a77aac4531e7' class='xr-var-attrs-in' type='checkbox' disabled><label for='attrs-f27544d4-868d-49f0-9ae1-a77aac4531e7' title='Show/Hide attributes'><svg class='icon xr-icon-file-text2'><use xlink:href='#icon-file-text2'></use></svg></label><input id='data-017f53f2-14c8-474a-8ec2-a06314b8db9a' class='xr-var-data-in' type='checkbox'><label for='data-017f53f2-14c8-474a-8ec2-a06314b8db9a' title='Show/Hide data repr'><svg class='icon xr-icon-database'><use xlink:href='#icon-database'></use></svg></label><div class='xr-var-attrs'><dl class='xr-attrs'></dl></div><pre class='xr-var-data'>array(140.)</pre></li><li class='xr-var-item'><div class='xr-var-name'><span>sweep_group_name</span></div><div class='xr-var-dims'>(sweep)</div><div class='xr-var-dtype'>&lt;U8</div><div class='xr-var-preview xr-preview'>&#x27;sweep_0&#x27; &#x27;sweep_1&#x27; ... &#x27;sweep_11&#x27;</div><input id='attrs-6edbbd17-a802-47fc-a491-11409197eef9' class='xr-var-attrs-in' type='checkbox' disabled><label for='attrs-6edbbd17-a802-47fc-a491-11409197eef9' title='Show/Hide attributes'><svg class='icon xr-icon-file-text2'><use xlink:href='#icon-file-text2'></use></svg></label><input id='data-1625dfb2-293a-4dab-9669-1e526fef1f8d' class='xr-var-data-in' type='checkbox'><label for='data-1625dfb2-293a-4dab-9669-1e526fef1f8d' title='Show/Hide data repr'><svg class='icon xr-icon-database'><use xlink:href='#icon-database'></use></svg></label><div class='xr-var-attrs'><dl class='xr-attrs'></dl></div><pre class='xr-var-data'>array([&#x27;sweep_0&#x27;, &#x27;sweep_1&#x27;, &#x27;sweep_2&#x27;, &#x27;sweep_3&#x27;, &#x27;sweep_4&#x27;, &#x27;sweep_5&#x27;,\n",
       "       &#x27;sweep_6&#x27;, &#x27;sweep_7&#x27;, &#x27;sweep_8&#x27;, &#x27;sweep_9&#x27;, &#x27;sweep_10&#x27;, &#x27;sweep_11&#x27;],\n",
       "      dtype=&#x27;&lt;U8&#x27;)</pre></li><li class='xr-var-item'><div class='xr-var-name'><span>sweep_fixed_angle</span></div><div class='xr-var-dims'>(sweep)</div><div class='xr-var-dtype'>float64</div><div class='xr-var-preview xr-preview'>25.0 20.0 16.0 13.0 ... 0.8 0.5 0.3</div><input id='attrs-e9f27ec8-6e59-444a-96a8-90344652f236' class='xr-var-attrs-in' type='checkbox' disabled><label for='attrs-e9f27ec8-6e59-444a-96a8-90344652f236' title='Show/Hide attributes'><svg class='icon xr-icon-file-text2'><use xlink:href='#icon-file-text2'></use></svg></label><input id='data-a0e4e2c9-8cde-4305-bfc6-775199dd4a60' class='xr-var-data-in' type='checkbox'><label for='data-a0e4e2c9-8cde-4305-bfc6-775199dd4a60' title='Show/Hide data repr'><svg class='icon xr-icon-database'><use xlink:href='#icon-database'></use></svg></label><div class='xr-var-attrs'><dl class='xr-attrs'></dl></div><pre class='xr-var-data'>array([25. , 20. , 16. , 13. , 10. ,  7.5,  5. ,  3. ,  1.8,  0.8,  0.5,\n",
       "        0.3])</pre></li></ul></div></li><li class='xr-section-item'><input id='section-bf86f4bf-00ea-4bf8-ae0c-4d4e5aef0f93' class='xr-section-summary-in' type='checkbox'  checked><label for='section-bf86f4bf-00ea-4bf8-ae0c-4d4e5aef0f93' class='xr-section-summary' >Attributes: <span>(9)</span></label><div class='xr-section-inline-details'></div><div class='xr-section-details'><dl class='xr-attrs'><dt><span>version :</span></dt><dd>H5rad 2.0</dd><dt><span>title :</span></dt><dd>None</dd><dt><span>institution :</span></dt><dd>None</dd><dt><span>references :</span></dt><dd>None</dd><dt><span>source :</span></dt><dd>None</dd><dt><span>history :</span></dt><dd>None</dd><dt><span>comment :</span></dt><dd>im/exported using wradlib</dd><dt><span>instrument_name :</span></dt><dd>None</dd><dt><span>Conventions :</span></dt><dd>ODIM_H5/V2_0</dd></dl></div></li></ul></div></div>"
      ],
      "text/plain": [
       "<xarray.Dataset>\n",
       "Dimensions:              (sweep: 12)\n",
       "Dimensions without coordinates: sweep\n",
       "Data variables:\n",
       "    volume_number        int64 0\n",
       "    platform_type        <U5 'fixed'\n",
       "    instrument_type      <U5 'radar'\n",
       "    primary_axis         <U6 'axis_z'\n",
       "    time_coverage_start  <U20 '2020-02-07T13:00:05Z'\n",
       "    time_coverage_end    <U20 '2020-02-07T13:39:26Z'\n",
       "    latitude             float64 51.07\n",
       "    longitude            float64 5.406\n",
       "    altitude             float64 140.0\n",
       "    sweep_group_name     (sweep) <U8 'sweep_0' 'sweep_1' ... 'sweep_11'\n",
       "    sweep_fixed_angle    (sweep) float64 25.0 20.0 16.0 13.0 ... 1.8 0.8 0.5 0.3\n",
       "Attributes:\n",
       "    version:          H5rad 2.0\n",
       "    title:            None\n",
       "    institution:      None\n",
       "    references:       None\n",
       "    source:           None\n",
       "    history:          None\n",
       "    comment:          im/exported using wradlib\n",
       "    instrument_name:  None\n",
       "    Conventions:      ODIM_H5/V2_0"
      ]
     },
     "execution_count": 38,
     "metadata": {},
     "output_type": "execute_result"
    }
   ],
   "source": [
    "vol.root"
   ]
  },
  {
   "cell_type": "markdown",
   "metadata": {},
   "source": [
    "## Get hold of data using xarray\n",
    "\n",
    "- The outer class instance `XRadVolume` does not contain a `.data`-property because the volume cannot be represented using xarray. \n",
    "- `XRadTimeseries` `.data` works on the sweep level, it can contain one or multiple consecutive sweeps.\n",
    "    It will be created on the fly from the `XRadSweep` `.data` xarray.Dataset objects via concatenation.\n",
    "- `XRadSweep` `.data` is one single sweep containing multiple radar moments. It is created **and** cached when first accessed.\n",
    "- `XRadMoment` `.data` is one single moment as xarray DataArray, which is claimed from the parent `XRadSweep`"
   ]
  },
  {
   "cell_type": "markdown",
   "metadata": {},
   "source": [
    "### Moment"
   ]
  },
  {
   "cell_type": "code",
   "execution_count": 39,
   "metadata": {},
   "outputs": [
    {
     "name": "stdout",
     "output_type": "stream",
     "text": [
      "First Access"
     ]
    },
    {
     "name": "stdout",
     "output_type": "stream",
     "text": [
      "\n"
     ]
    },
    {
     "name": "stdout",
     "output_type": "stream",
     "text": [
      "<xarray.DataArray 'WRAD' (azimuth: 360, range: 800)>\n",
      "dask.array<_scale_offset_decoding, shape=(360, 800), dtype=float32, chunksize=(360, 800), chunktype=numpy.ndarray>\n",
      "Coordinates:\n",
      "    time        datetime64[ns] ...\n",
      "  * azimuth     (azimuth) float32 0.5 1.5 2.5 3.5 ... 356.5 357.5 358.5 359.5\n",
      "    elevation   (azimuth) float32 ...\n",
      "    rtime       (azimuth) datetime64[ns] ...\n",
      "  * range       (range) float32 125.0 375.0 625.0 ... 199375.0 199625.0 199875.0\n",
      "    sweep_mode  <U20 ...\n",
      "    latitude    float64 ...\n",
      "    longitude   float64 ...\n",
      "    altitude    float64 ...\n",
      "Attributes:\n",
      "    IMAGE_VERSION:  1.2\n",
      "    _Undetect:      0.0\n",
      "    long_name:      Doppler spectrum width\n",
      "    units:          meters per second\n",
      "    standard_name:  radar_doppler_spectrum_width\n",
      "Memory: 150.4140625 - 153.54296875\n",
      "Memory added: 3.12891 MB\n",
      "CPU times: user 86.3 ms, sys: 42.3 ms, total: 129 ms\n",
      "Wall time: 187 ms\n"
     ]
    }
   ],
   "source": [
    "%%time\n",
    "print(\"First Access\")\n",
    "mem0 = memory_usage_psutil()\n",
    "print(vol[-2][0][0].data)\n",
    "mem1 = memory_usage_psutil()\n",
    "print(\"Memory: {} - {}\".format(mem0, mem1))\n",
    "print(\"Memory added: {0:.5f} MB\".format((mem1-mem0)))"
   ]
  },
  {
   "cell_type": "code",
   "execution_count": 40,
   "metadata": {},
   "outputs": [
    {
     "name": "stdout",
     "output_type": "stream",
     "text": [
      "Second Access"
     ]
    },
    {
     "name": "stdout",
     "output_type": "stream",
     "text": [
      "\n",
      "<xarray.DataArray 'WRAD' (azimuth: 360, range: 800)>\n",
      "dask.array<_scale_offset_decoding, shape=(360, 800), dtype=float32, chunksize=(360, 800), chunktype=numpy.ndarray>\n",
      "Coordinates:\n",
      "    time        datetime64[ns] ...\n",
      "  * azimuth     (azimuth) float32 0.5 1.5 2.5 3.5 ... 356.5 357.5 358.5 359.5\n",
      "    elevation   (azimuth) float32 ...\n",
      "    rtime       (azimuth) datetime64[ns] ...\n",
      "  * range       (range) float32 125.0 375.0 625.0 ... 199375.0 199625.0 199875.0\n",
      "    sweep_mode  <U20 ...\n",
      "    latitude    float64 ...\n",
      "    longitude   float64 ...\n",
      "    altitude    float64 ...\n",
      "Attributes:\n",
      "    IMAGE_VERSION:  1.2\n",
      "    _Undetect:      0.0\n",
      "    long_name:      Doppler spectrum width\n",
      "    units:          meters per second\n",
      "    standard_name:  radar_doppler_spectrum_width\n",
      "Memory: 153.796875 - 153.796875\n",
      "Memory added: 0.00000 MB\n",
      "CPU times: user 24.1 ms, sys: 30.7 ms, total: 54.8 ms\n",
      "Wall time: 74.8 ms\n"
     ]
    }
   ],
   "source": [
    "%%time\n",
    "print(\"Second Access\")\n",
    "mem0 = memory_usage_psutil()\n",
    "print(vol[-2][0][0].data)\n",
    "mem1 = memory_usage_psutil()\n",
    "print(\"Memory: {} - {}\".format(mem0, mem1))\n",
    "print(\"Memory added: {0:.5f} MB\".format((mem1-mem0)))"
   ]
  },
  {
   "cell_type": "markdown",
   "metadata": {},
   "source": [
    "### Sweep"
   ]
  },
  {
   "cell_type": "code",
   "execution_count": 41,
   "metadata": {},
   "outputs": [
    {
     "name": "stdout",
     "output_type": "stream",
     "text": [
      "First Access\n"
     ]
    },
    {
     "name": "stdout",
     "output_type": "stream",
     "text": [
      "<xarray.Dataset>\n",
      "Dimensions:     (azimuth: 360, range: 800)\n",
      "Coordinates:\n",
      "    time        datetime64[ns] ...\n",
      "  * azimuth     (azimuth) float32 0.5 1.5 2.5 3.5 ... 356.5 357.5 358.5 359.5\n",
      "    elevation   (azimuth) float32 ...\n",
      "    rtime       (azimuth) datetime64[ns] ...\n",
      "  * range       (range) float32 125.0 375.0 625.0 ... 199375.0 199625.0 199875.0\n",
      "    sweep_mode  <U20 ...\n",
      "    latitude    float64 ...\n",
      "    longitude   float64 ...\n",
      "    altitude    float64 ...\n",
      "Data variables:\n",
      "    DBZH        (azimuth, range) float32 dask.array<chunksize=(360, 800), meta=np.ndarray>\n",
      "    RHOHV       (azimuth, range) float32 dask.array<chunksize=(360, 800), meta=np.ndarray>\n",
      "    VRAD        (azimuth, range) float32 dask.array<chunksize=(360, 800), meta=np.ndarray>\n",
      "    WRAD        (azimuth, range) float32 dask.array<chunksize=(360, 800), meta=np.ndarray>\n",
      "Memory: 153.796875 - 153.92578125\n",
      "Memory added: 0.12891 MB\n",
      "CPU times: user 75 ms, sys: 31.7 ms, total: 107 ms\n",
      "Wall time: 108 ms\n"
     ]
    }
   ],
   "source": [
    "%%time\n",
    "print(\"First Access\")\n",
    "mem0 = memory_usage_psutil()\n",
    "print(vol[-1][0].data)\n",
    "mem1 = memory_usage_psutil()\n",
    "print(\"Memory: {} - {}\".format(mem0, mem1))\n",
    "print(\"Memory added: {0:.5f} MB\".format((mem1-mem0)))"
   ]
  },
  {
   "cell_type": "code",
   "execution_count": 42,
   "metadata": {},
   "outputs": [
    {
     "name": "stdout",
     "output_type": "stream",
     "text": [
      "Second Access\n",
      "<xarray.Dataset>\n",
      "Dimensions:     (azimuth: 360, range: 800)\n",
      "Coordinates:\n",
      "    time        datetime64[ns] ...\n",
      "  * azimuth     (azimuth) float32 0.5 1.5 2.5 3.5 ... 356.5 357.5 358.5 359.5\n",
      "    elevation   (azimuth) float32 ...\n",
      "    rtime       (azimuth) datetime64[ns] ...\n",
      "  * range       (range) float32 125.0 375.0 625.0 ... 199375.0 199625.0 199875.0\n",
      "    sweep_mode  <U20 ...\n",
      "    latitude    float64 ...\n",
      "    longitude   float64 ...\n",
      "    altitude    float64 ...\n",
      "Data variables:\n",
      "    DBZH        (azimuth, range) float32 dask.array<chunksize=(360, 800), meta=np.ndarray>\n",
      "    RHOHV       (azimuth, range) float32 dask.array<chunksize=(360, 800), meta=np.ndarray>\n",
      "    VRAD        (azimuth, range) float32 dask.array<chunksize=(360, 800), meta=np.ndarray>\n",
      "    WRAD        (azimuth, range) float32 dask.array<chunksize=(360, 800), meta=np.ndarray>\n",
      "Memory: 154.1015625 - 154.1015625\n",
      "Memory added: 0.00000 MB\n",
      "CPU times: user 18.7 ms, sys: 34.8 ms, total: 53.5 ms\n",
      "Wall time: 65.4 ms\n"
     ]
    }
   ],
   "source": [
    "%%time\n",
    "print(\"Second Access\")\n",
    "mem0 = memory_usage_psutil()\n",
    "print(vol[-1][0].data)\n",
    "mem1 = memory_usage_psutil()\n",
    "print(\"Memory: {} - {}\".format(mem0, mem1))\n",
    "print(\"Memory added: {0:.5f} MB\".format((mem1-mem0)))"
   ]
  },
  {
   "cell_type": "markdown",
   "metadata": {},
   "source": [
    "### TimeSeries"
   ]
  },
  {
   "cell_type": "code",
   "execution_count": 43,
   "metadata": {},
   "outputs": [
    {
     "name": "stdout",
     "output_type": "stream",
     "text": [
      "First Access\n"
     ]
    },
    {
     "name": "stderr",
     "output_type": "stream",
     "text": [
      "\r",
      "Collecting:   0%|          | 0/8 [00:00<?, ? Timesteps/s]"
     ]
    },
    {
     "name": "stderr",
     "output_type": "stream",
     "text": [
      "\r",
      "Collecting:  38%|███▊      | 3/8 [00:00<00:00, 23.92 Timesteps/s]"
     ]
    },
    {
     "name": "stderr",
     "output_type": "stream",
     "text": [
      "\r",
      "Collecting:  62%|██████▎   | 5/8 [00:00<00:00, 19.21 Timesteps/s]"
     ]
    },
    {
     "name": "stderr",
     "output_type": "stream",
     "text": [
      "\r",
      "Collecting:  88%|████████▊ | 7/8 [00:00<00:00, 17.04 Timesteps/s]"
     ]
    },
    {
     "name": "stderr",
     "output_type": "stream",
     "text": [
      "\r",
      "Collecting: 100%|██████████| 8/8 [00:00<00:00, 14.59 Timesteps/s]"
     ]
    },
    {
     "name": "stderr",
     "output_type": "stream",
     "text": [
      "\n"
     ]
    },
    {
     "name": "stdout",
     "output_type": "stream",
     "text": [
      "<xarray.Dataset>\n",
      "Dimensions:     (azimuth: 360, range: 800, time: 8)\n",
      "Coordinates:\n",
      "    latitude    float64 51.07\n",
      "    sweep_mode  <U20 'azimuth_surveillance'\n",
      "    altitude    float64 140.0\n",
      "    elevation   (azimuth) float32 0.3 0.3 0.3 0.3 0.3 ... 0.3 0.3 0.3 0.3 0.3\n",
      "    longitude   float64 5.406\n",
      "  * azimuth     (azimuth) float32 0.5 1.5 2.5 3.5 ... 356.5 357.5 358.5 359.5\n",
      "  * range       (range) float32 125.0 375.0 625.0 ... 199375.0 199625.0 199875.0\n",
      "  * time        (time) datetime64[ns] 2020-02-07T13:04:08 ... 2020-02-07T13:39:08\n",
      "    rtime       (time, azimuth) datetime64[ns] 2020-02-07T13:04:10.527778816 ... 2020-02-07T13:39:10.295832832\n",
      "Data variables:\n",
      "    DBZH        (time, azimuth, range) float32 dask.array<chunksize=(1, 360, 800), meta=np.ndarray>\n",
      "    RHOHV       (time, azimuth, range) float32 dask.array<chunksize=(1, 360, 800), meta=np.ndarray>\n",
      "    VRAD        (time, azimuth, range) float32 dask.array<chunksize=(1, 360, 800), meta=np.ndarray>\n",
      "    WRAD        (time, azimuth, range) float32 dask.array<chunksize=(1, 360, 800), meta=np.ndarray>\n",
      "Memory: 154.10546875 - 155.7421875\n",
      "Memory added: 1.63672 MB\n",
      "CPU times: user 506 ms, sys: 37.9 ms, total: 544 ms\n",
      "Wall time: 695 ms\n"
     ]
    }
   ],
   "source": [
    "%%time\n",
    "print(\"First Access\")\n",
    "mem0 = memory_usage_psutil()\n",
    "print(vol[-1].data)\n",
    "mem1 = memory_usage_psutil()\n",
    "print(\"Memory: {} - {}\".format(mem0, mem1))\n",
    "print(\"Memory added: {0:.5f} MB\".format((mem1-mem0)))"
   ]
  },
  {
   "cell_type": "code",
   "execution_count": 44,
   "metadata": {},
   "outputs": [
    {
     "name": "stdout",
     "output_type": "stream",
     "text": [
      "Second Access\n",
      "<xarray.Dataset>\n",
      "Dimensions:     (azimuth: 360, range: 800, time: 8)\n",
      "Coordinates:\n",
      "    latitude    float64 51.07\n",
      "    sweep_mode  <U20 'azimuth_surveillance'\n",
      "    altitude    float64 140.0\n",
      "    elevation   (azimuth) float32 0.3 0.3 0.3 0.3 0.3 ... 0.3 0.3 0.3 0.3 0.3\n",
      "    longitude   float64 5.406\n",
      "  * azimuth     (azimuth) float32 0.5 1.5 2.5 3.5 ... 356.5 357.5 358.5 359.5\n",
      "  * range       (range) float32 125.0 375.0 625.0 ... 199375.0 199625.0 199875.0\n",
      "  * time        (time) datetime64[ns] 2020-02-07T13:04:08 ... 2020-02-07T13:39:08\n",
      "    rtime       (time, azimuth) datetime64[ns] 2020-02-07T13:04:10.527778816 ... 2020-02-07T13:39:10.295832832\n",
      "Data variables:\n",
      "    DBZH        (time, azimuth, range) float32 dask.array<chunksize=(1, 360, 800), meta=np.ndarray>\n",
      "    RHOHV       (time, azimuth, range) float32 dask.array<chunksize=(1, 360, 800), meta=np.ndarray>\n",
      "    VRAD        (time, azimuth, range) float32 dask.array<chunksize=(1, 360, 800), meta=np.ndarray>\n",
      "    WRAD        (time, azimuth, range) float32 dask.array<chunksize=(1, 360, 800), meta=np.ndarray>\n",
      "Memory: 157.0625 - 157.06640625\n",
      "Memory added: 0.00391 MB\n",
      "CPU times: user 24.4 ms, sys: 31.3 ms, total: 55.7 ms\n",
      "Wall time: 55.9 ms\n"
     ]
    }
   ],
   "source": [
    "%%time\n",
    "print(\"Second Access\")\n",
    "mem0 = memory_usage_psutil()\n",
    "print(vol[-1].data)\n",
    "mem1 = memory_usage_psutil()\n",
    "print(\"Memory: {} - {}\".format(mem0, mem1))\n",
    "print(\"Memory added: {0:.5f} MB\".format((mem1-mem0)))"
   ]
  },
  {
   "cell_type": "markdown",
   "metadata": {},
   "source": [
    "## Plot Data"
   ]
  },
  {
   "cell_type": "markdown",
   "metadata": {},
   "source": [
    "### Plot Single Sweep"
   ]
  },
  {
   "cell_type": "code",
   "execution_count": 45,
   "metadata": {},
   "outputs": [
    {
     "data": {
      "text/plain": [
       "<matplotlib.collections.QuadMesh at 0x7f39442ab160>"
      ]
     },
     "execution_count": 45,
     "metadata": {},
     "output_type": "execute_result"
    },
    {
     "data": {
      "image/png": "[encoded data removed]",
      "text/plain": [
       "<Figure size 432x288 with 1 Axes>"
      ]
     },
     "metadata": {
      "needs_background": "light"
     },
     "output_type": "display_data"
    }
   ],
   "source": [
    "vol[-1].data.pipe(wrl.georef.georeference_dataset).DBZH[0].wradlib.plot()"
   ]
  },
  {
   "cell_type": "markdown",
   "metadata": {},
   "source": [
    "### Plot same single sweep from Timeseries"
   ]
  },
  {
   "cell_type": "code",
   "execution_count": 46,
   "metadata": {},
   "outputs": [
    {
     "data": {
      "text/plain": [
       "<matplotlib.collections.QuadMesh at 0x7f39441d39d0>"
      ]
     },
     "execution_count": 46,
     "metadata": {},
     "output_type": "execute_result"
    },
    {
     "data": {
      "image/png": "[encoded data removed]",
      "text/plain": [
       "<Figure size 432x288 with 2 Axes>"
      ]
     },
     "metadata": {
      "needs_background": "light"
     },
     "output_type": "display_data"
    }
   ],
   "source": [
    "vol[-1].data.DBZH[0].plot()"
   ]
  },
  {
   "cell_type": "markdown",
   "metadata": {},
   "source": [
    "## Exporting Data\n",
    "\n",
    "Data can be exported to ODIMH5, CfRadial2 and NetCDF4."
   ]
  },
  {
   "cell_type": "markdown",
   "metadata": {},
   "source": [
    "### ODIMH5\n",
    "\n",
    "ODIMH5 can only handle one volume not timeseries. So we have to select the timestep which we want to export.\n",
    "\n",
    "The example shows, how to output the volume to a ODIMH5-file, read it back and check for equality."
   ]
  },
  {
   "cell_type": "code",
   "execution_count": 47,
   "metadata": {},
   "outputs": [],
   "source": [
    "vol.to_odim('test_odim.h5', timestep=5)"
   ]
  },
  {
   "cell_type": "code",
   "execution_count": 48,
   "metadata": {},
   "outputs": [
    {
     "name": "stderr",
     "output_type": "stream",
     "text": [
      "\r",
      "Open:   0%|          | 0/1 [00:00<?, ? Files/s]"
     ]
    },
    {
     "name": "stderr",
     "output_type": "stream",
     "text": [
      "\r",
      "Open: 100%|██████████| 1/1 [00:00<00:00, 33.63 Files/s]"
     ]
    },
    {
     "name": "stderr",
     "output_type": "stream",
     "text": [
      "\n",
      "\r",
      "Collecting:   0%|          | 0/12 [00:00<?, ? Angles/s]"
     ]
    },
    {
     "name": "stderr",
     "output_type": "stream",
     "text": [
      "\r",
      "Collecting: 100%|██████████| 12/12 [00:00<00:00, 2871.34 Angles/s]"
     ]
    },
    {
     "name": "stderr",
     "output_type": "stream",
     "text": [
      "\n"
     ]
    }
   ],
   "source": [
    "vol1 = wrl.io.open_odim('test_odim.h5')"
   ]
  },
  {
   "cell_type": "code",
   "execution_count": 49,
   "metadata": {},
   "outputs": [
    {
     "name": "stdout",
     "output_type": "stream",
     "text": [
      "<wradlib.XRadSweepOdim>\n",
      "Dimension(s): (azimuth: 360, range: 800)\n",
      "Elevation(s): (25.0)\n",
      "Moment(s): (VRAD, RHOHV, WRAD, DBZH)\n"
     ]
    }
   ],
   "source": [
    "print(vol[0][5])"
   ]
  },
  {
   "cell_type": "code",
   "execution_count": 50,
   "metadata": {},
   "outputs": [
    {
     "name": "stdout",
     "output_type": "stream",
     "text": [
      "<wradlib.XRadSweepOdim>\n",
      "Dimension(s): (azimuth: 360, range: 800)\n",
      "Elevation(s): (25.0)\n",
      "Moment(s): (DBZH, RHOHV, VRAD, WRAD)\n"
     ]
    }
   ],
   "source": [
    "print(vol1[0][0])"
   ]
  },
  {
   "cell_type": "code",
   "execution_count": 51,
   "metadata": {},
   "outputs": [],
   "source": [
    "xr.testing.assert_equal(vol[0][5].data, vol1[0][0].data)"
   ]
  },
  {
   "cell_type": "markdown",
   "metadata": {},
   "source": [
    "### CfRadial2\n",
    "\n",
    "CfRadial2 can only handle one volume not timeseries. So we have to select the timestep which we want to export.\n",
    "\n",
    "The example shows, how to output the volume to a CfRadial2-file and read it back. For there is currently no fitting counterpart to `open_odim` for reading CfRadial2 volumes we resort to `wradlib.io.CfRadial` reader and compare the underlying numpy arrays."
   ]
  },
  {
   "cell_type": "code",
   "execution_count": 52,
   "metadata": {},
   "outputs": [],
   "source": [
    "vol.to_cfradial2('test_cfradial2.nc', timestep=5)"
   ]
  },
  {
   "cell_type": "code",
   "execution_count": 53,
   "metadata": {},
   "outputs": [],
   "source": [
    "vol2 = wrl.io.CfRadial('test_cfradial2.nc', dim0='azimuth')"
   ]
  },
  {
   "cell_type": "code",
   "execution_count": 54,
   "metadata": {},
   "outputs": [],
   "source": [
    "np.testing.assert_equal(vol[0][5].data.DBZH.values, vol2['sweep_0'].DBZH.values)"
   ]
  },
  {
   "cell_type": "markdown",
   "metadata": {},
   "source": [
    "### NetCDF4\n",
    "\n",
    "Using this, the complete volume/timeseries is exported to a NetCDF4 file.\n",
    "\n",
    "The example shows, how to output the volume to such NetCDF4-file and read it back. For there is currently no fitting counterpart to `open_odim` for reading these NetCDF4 volumes we resort to `xarray.open_dataset` reader."
   ]
  },
  {
   "cell_type": "code",
   "execution_count": 55,
   "metadata": {},
   "outputs": [
    {
     "name": "stderr",
     "output_type": "stream",
     "text": [
      "\r",
      "Collecting:   0%|          | 0/8 [00:00<?, ? Timesteps/s]"
     ]
    },
    {
     "name": "stderr",
     "output_type": "stream",
     "text": [
      "\r",
      "Collecting:  38%|███▊      | 3/8 [00:00<00:00, 20.37 Timesteps/s]"
     ]
    },
    {
     "name": "stderr",
     "output_type": "stream",
     "text": [
      "\r",
      "Collecting:  62%|██████▎   | 5/8 [00:00<00:00, 17.26 Timesteps/s]"
     ]
    },
    {
     "name": "stderr",
     "output_type": "stream",
     "text": [
      "\r",
      "Collecting: 100%|██████████| 8/8 [00:00<00:00, 17.12 Timesteps/s]"
     ]
    },
    {
     "name": "stderr",
     "output_type": "stream",
     "text": [
      "\r",
      "Collecting: 100%|██████████| 8/8 [00:00<00:00, 16.52 Timesteps/s]"
     ]
    },
    {
     "name": "stderr",
     "output_type": "stream",
     "text": [
      "\n"
     ]
    },
    {
     "name": "stderr",
     "output_type": "stream",
     "text": [
      "\r",
      "Collecting:   0%|          | 0/8 [00:00<?, ? Timesteps/s]"
     ]
    },
    {
     "name": "stderr",
     "output_type": "stream",
     "text": [
      "\r",
      "Collecting:  25%|██▌       | 2/8 [00:00<00:00, 14.22 Timesteps/s]"
     ]
    },
    {
     "name": "stderr",
     "output_type": "stream",
     "text": [
      "\r",
      "Collecting:  50%|█████     | 4/8 [00:00<00:00, 15.38 Timesteps/s]"
     ]
    },
    {
     "name": "stderr",
     "output_type": "stream",
     "text": [
      "\r",
      "Collecting:  62%|██████▎   | 5/8 [00:00<00:00, 12.60 Timesteps/s]"
     ]
    },
    {
     "name": "stderr",
     "output_type": "stream",
     "text": [
      "\r",
      "Collecting: 100%|██████████| 8/8 [00:00<00:00, 13.82 Timesteps/s]"
     ]
    },
    {
     "name": "stderr",
     "output_type": "stream",
     "text": [
      "\r",
      "Collecting: 100%|██████████| 8/8 [00:00<00:00, 15.15 Timesteps/s]"
     ]
    },
    {
     "name": "stderr",
     "output_type": "stream",
     "text": [
      "\n"
     ]
    },
    {
     "name": "stderr",
     "output_type": "stream",
     "text": [
      "\r",
      "Collecting:   0%|          | 0/8 [00:00<?, ? Timesteps/s]"
     ]
    },
    {
     "name": "stderr",
     "output_type": "stream",
     "text": [
      "\r",
      "Collecting:  25%|██▌       | 2/8 [00:00<00:00, 11.42 Timesteps/s]"
     ]
    },
    {
     "name": "stderr",
     "output_type": "stream",
     "text": [
      "\r",
      "Collecting:  50%|█████     | 4/8 [00:00<00:00, 13.00 Timesteps/s]"
     ]
    },
    {
     "name": "stderr",
     "output_type": "stream",
     "text": [
      "\r",
      "Collecting:  88%|████████▊ | 7/8 [00:00<00:00, 15.23 Timesteps/s]"
     ]
    },
    {
     "name": "stderr",
     "output_type": "stream",
     "text": [
      "\r",
      "Collecting: 100%|██████████| 8/8 [00:00<00:00, 16.62 Timesteps/s]"
     ]
    },
    {
     "name": "stderr",
     "output_type": "stream",
     "text": [
      "\n"
     ]
    },
    {
     "name": "stderr",
     "output_type": "stream",
     "text": [
      "\r",
      "Collecting:   0%|          | 0/8 [00:00<?, ? Timesteps/s]"
     ]
    },
    {
     "name": "stderr",
     "output_type": "stream",
     "text": [
      "\r",
      "Collecting:  25%|██▌       | 2/8 [00:00<00:00, 17.84 Timesteps/s]"
     ]
    },
    {
     "name": "stderr",
     "output_type": "stream",
     "text": [
      "\r",
      "Collecting:  50%|█████     | 4/8 [00:00<00:00, 15.27 Timesteps/s]"
     ]
    },
    {
     "name": "stderr",
     "output_type": "stream",
     "text": [
      "\r",
      "Collecting:  88%|████████▊ | 7/8 [00:00<00:00, 16.40 Timesteps/s]"
     ]
    },
    {
     "name": "stderr",
     "output_type": "stream",
     "text": [
      "\r",
      "Collecting: 100%|██████████| 8/8 [00:00<00:00, 14.67 Timesteps/s]"
     ]
    },
    {
     "name": "stderr",
     "output_type": "stream",
     "text": [
      "\n"
     ]
    },
    {
     "name": "stderr",
     "output_type": "stream",
     "text": [
      "\r",
      "Collecting:   0%|          | 0/8 [00:00<?, ? Timesteps/s]"
     ]
    },
    {
     "name": "stderr",
     "output_type": "stream",
     "text": [
      "\r",
      "Collecting:  25%|██▌       | 2/8 [00:00<00:00, 16.69 Timesteps/s]"
     ]
    },
    {
     "name": "stderr",
     "output_type": "stream",
     "text": [
      "\r",
      "Collecting:  50%|█████     | 4/8 [00:00<00:00, 17.23 Timesteps/s]"
     ]
    },
    {
     "name": "stderr",
     "output_type": "stream",
     "text": [
      "\r",
      "Collecting:  88%|████████▊ | 7/8 [00:00<00:00, 17.94 Timesteps/s]"
     ]
    },
    {
     "name": "stderr",
     "output_type": "stream",
     "text": [
      "\r",
      "Collecting: 100%|██████████| 8/8 [00:00<00:00, 18.16 Timesteps/s]"
     ]
    },
    {
     "name": "stderr",
     "output_type": "stream",
     "text": [
      "\n"
     ]
    },
    {
     "name": "stderr",
     "output_type": "stream",
     "text": [
      "\r",
      "Collecting:   0%|          | 0/8 [00:00<?, ? Timesteps/s]"
     ]
    },
    {
     "name": "stderr",
     "output_type": "stream",
     "text": [
      "\r",
      "Collecting:  25%|██▌       | 2/8 [00:00<00:00, 16.88 Timesteps/s]"
     ]
    },
    {
     "name": "stderr",
     "output_type": "stream",
     "text": [
      "\r",
      "Collecting:  50%|█████     | 4/8 [00:00<00:00, 16.61 Timesteps/s]"
     ]
    },
    {
     "name": "stderr",
     "output_type": "stream",
     "text": [
      "\r",
      "Collecting:  88%|████████▊ | 7/8 [00:00<00:00, 18.21 Timesteps/s]"
     ]
    },
    {
     "name": "stderr",
     "output_type": "stream",
     "text": [
      "\r",
      "Collecting: 100%|██████████| 8/8 [00:00<00:00, 18.53 Timesteps/s]"
     ]
    },
    {
     "name": "stderr",
     "output_type": "stream",
     "text": [
      "\n"
     ]
    },
    {
     "name": "stderr",
     "output_type": "stream",
     "text": [
      "\r",
      "Collecting:   0%|          | 0/8 [00:00<?, ? Timesteps/s]"
     ]
    },
    {
     "name": "stderr",
     "output_type": "stream",
     "text": [
      "\r",
      "Collecting:  38%|███▊      | 3/8 [00:00<00:00, 19.61 Timesteps/s]"
     ]
    },
    {
     "name": "stderr",
     "output_type": "stream",
     "text": [
      "\r",
      "Collecting:  88%|████████▊ | 7/8 [00:00<00:00, 21.46 Timesteps/s]"
     ]
    },
    {
     "name": "stderr",
     "output_type": "stream",
     "text": [
      "\r",
      "Collecting: 100%|██████████| 8/8 [00:00<00:00, 22.26 Timesteps/s]"
     ]
    },
    {
     "name": "stderr",
     "output_type": "stream",
     "text": [
      "\n"
     ]
    },
    {
     "name": "stderr",
     "output_type": "stream",
     "text": [
      "\r",
      "Collecting:   0%|          | 0/8 [00:00<?, ? Timesteps/s]"
     ]
    },
    {
     "name": "stderr",
     "output_type": "stream",
     "text": [
      "\r",
      "Collecting:  12%|█▎        | 1/8 [00:00<00:00,  9.15 Timesteps/s]"
     ]
    },
    {
     "name": "stderr",
     "output_type": "stream",
     "text": [
      "\r",
      "Collecting:  38%|███▊      | 3/8 [00:00<00:00, 10.52 Timesteps/s]"
     ]
    },
    {
     "name": "stderr",
     "output_type": "stream",
     "text": [
      "\r",
      "Collecting:  62%|██████▎   | 5/8 [00:00<00:00, 10.90 Timesteps/s]"
     ]
    },
    {
     "name": "stderr",
     "output_type": "stream",
     "text": [
      "\r",
      "Collecting: 100%|██████████| 8/8 [00:00<00:00, 13.09 Timesteps/s]"
     ]
    },
    {
     "name": "stderr",
     "output_type": "stream",
     "text": [
      "\r",
      "Collecting: 100%|██████████| 8/8 [00:00<00:00, 15.26 Timesteps/s]"
     ]
    },
    {
     "name": "stderr",
     "output_type": "stream",
     "text": [
      "\n"
     ]
    },
    {
     "name": "stderr",
     "output_type": "stream",
     "text": [
      "\r",
      "Collecting:   0%|          | 0/8 [00:00<?, ? Timesteps/s]"
     ]
    },
    {
     "name": "stderr",
     "output_type": "stream",
     "text": [
      "\r",
      "Collecting:  25%|██▌       | 2/8 [00:00<00:00, 19.34 Timesteps/s]"
     ]
    },
    {
     "name": "stderr",
     "output_type": "stream",
     "text": [
      "\r",
      "Collecting:  50%|█████     | 4/8 [00:00<00:00, 18.51 Timesteps/s]"
     ]
    },
    {
     "name": "stderr",
     "output_type": "stream",
     "text": [
      "\r",
      "Collecting:  88%|████████▊ | 7/8 [00:00<00:00, 18.83 Timesteps/s]"
     ]
    },
    {
     "name": "stderr",
     "output_type": "stream",
     "text": [
      "\r",
      "Collecting: 100%|██████████| 8/8 [00:00<00:00, 18.68 Timesteps/s]"
     ]
    },
    {
     "name": "stderr",
     "output_type": "stream",
     "text": [
      "\n"
     ]
    },
    {
     "name": "stderr",
     "output_type": "stream",
     "text": [
      "\r",
      "Collecting:   0%|          | 0/8 [00:00<?, ? Timesteps/s]"
     ]
    },
    {
     "name": "stderr",
     "output_type": "stream",
     "text": [
      "\r",
      "Collecting:  25%|██▌       | 2/8 [00:00<00:00, 19.60 Timesteps/s]"
     ]
    },
    {
     "name": "stderr",
     "output_type": "stream",
     "text": [
      "\r",
      "Collecting:  50%|█████     | 4/8 [00:00<00:00, 19.24 Timesteps/s]"
     ]
    },
    {
     "name": "stderr",
     "output_type": "stream",
     "text": [
      "\r",
      "Collecting:  88%|████████▊ | 7/8 [00:00<00:00, 18.94 Timesteps/s]"
     ]
    },
    {
     "name": "stderr",
     "output_type": "stream",
     "text": [
      "\r",
      "Collecting: 100%|██████████| 8/8 [00:00<00:00, 19.04 Timesteps/s]"
     ]
    },
    {
     "name": "stderr",
     "output_type": "stream",
     "text": [
      "\n"
     ]
    },
    {
     "name": "stderr",
     "output_type": "stream",
     "text": [
      "\r",
      "Collecting:   0%|          | 0/8 [00:00<?, ? Timesteps/s]"
     ]
    },
    {
     "name": "stderr",
     "output_type": "stream",
     "text": [
      "\r",
      "Collecting:  38%|███▊      | 3/8 [00:00<00:00, 25.94 Timesteps/s]"
     ]
    },
    {
     "name": "stderr",
     "output_type": "stream",
     "text": [
      "\r",
      "Collecting:  62%|██████▎   | 5/8 [00:00<00:00, 21.70 Timesteps/s]"
     ]
    },
    {
     "name": "stderr",
     "output_type": "stream",
     "text": [
      "\r",
      "Collecting: 100%|██████████| 8/8 [00:00<00:00, 22.53 Timesteps/s]"
     ]
    },
    {
     "name": "stderr",
     "output_type": "stream",
     "text": [
      "\r",
      "Collecting: 100%|██████████| 8/8 [00:00<00:00, 21.89 Timesteps/s]"
     ]
    },
    {
     "name": "stderr",
     "output_type": "stream",
     "text": [
      "\n"
     ]
    }
   ],
   "source": [
    "vol.to_netcdf('test_netcdf.nc', timestep=slice(None, None))"
   ]
  },
  {
   "cell_type": "code",
   "execution_count": 56,
   "metadata": {},
   "outputs": [],
   "source": [
    "vol3 = xr.open_dataset('test_netcdf.nc', group='sweep_0')"
   ]
  },
  {
   "cell_type": "code",
   "execution_count": 57,
   "metadata": {},
   "outputs": [],
   "source": [
    "xr.testing.assert_equal(vol[0][5].data, vol3.isel(time=5))"
   ]
  },
  {
   "cell_type": "markdown",
   "metadata": {},
   "source": [
    "## Delete object"
   ]
  },
  {
   "cell_type": "code",
   "execution_count": 58,
   "metadata": {},
   "outputs": [],
   "source": [
    "del mom\n",
    "del swp\n",
    "del ts\n",
    "del vol\n",
    "del vol1\n",
    "del vol2\n",
    "del vol3"
   ]
  },
  {
   "cell_type": "markdown",
   "metadata": {},
   "source": [
    "## Run Garbage Collection"
   ]
  },
  {
   "cell_type": "code",
   "execution_count": 59,
   "metadata": {},
   "outputs": [
    {
     "name": "stdout",
     "output_type": "stream",
     "text": [
      "46298\n",
      "Memory freed: 3.29688 MB\n"
     ]
    }
   ],
   "source": [
    "free_memory()"
   ]
  },
  {
   "cell_type": "markdown",
   "metadata": {},
   "source": [
    "## Check Memory"
   ]
  },
  {
   "cell_type": "code",
   "execution_count": 60,
   "metadata": {},
   "outputs": [
    {
     "name": "stdout",
     "output_type": "stream",
     "text": [
      "Memory: 123.48828125 - 332.0234375\n",
      "Memory still in use: 208.53516 MB\n"
     ]
    }
   ],
   "source": [
    "mem_end = memory_usage_psutil()\n",
    "print(\"Memory: {} - {}\".format(mem_start, mem_end))\n",
    "print(\"Memory still in use: {0:.5f} MB\".format((mem_end-mem_start)))"
   ]
  },
  {
   "cell_type": "markdown",
   "metadata": {},
   "source": [
    "## Check Open files\n",
    "\n",
    "No open data files!"
   ]
  },
  {
   "cell_type": "code",
   "execution_count": 61,
   "metadata": {},
   "outputs": [
    {
     "name": "stdout",
     "output_type": "stream",
     "text": [
      "3\n",
      "[popenfile(path='/home/travis/miniconda/envs/travis_wradlib/share/proj/proj.db', fd=75, position=40, mode='r', flags=557056), popenfile(path='/home/travis/miniconda/envs/travis_wradlib/lib/python3.8/site-packages/matplotlib/mpl-data/fonts/ttf/DejaVuSans.ttf', fd=78, position=69632, mode='r', flags=557056), popenfile(path='/home/travis/miniconda/envs/travis_wradlib/lib/python3.8/site-packages/matplotlib/mpl-data/fonts/ttf/DejaVuSans.ttf', fd=79, position=69632, mode='r', flags=557056)]\n"
     ]
    }
   ],
   "source": [
    "check_open_files(True)"
   ]
  }
 ],
 "metadata": {
  "kernelspec": {
   "display_name": "Python 3",
   "language": "python",
   "name": "python3"
  },
  "language_info": {
   "codemirror_mode": {
    "name": "ipython",
    "version": 3
   },
   "file_extension": ".py",
   "mimetype": "text/x-python",
   "name": "python",
   "nbconvert_exporter": "python",
   "pygments_lexer": "ipython3",
   "version": "3.8.3"
  }
 },
 "nbformat": 4,
 "nbformat_minor": 2
}
